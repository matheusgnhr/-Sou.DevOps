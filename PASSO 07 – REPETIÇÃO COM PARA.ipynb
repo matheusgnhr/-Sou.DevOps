{
 "cells": [
  {
   "cell_type": "markdown",
   "id": "4f242aa3-b8bf-4249-a060-4eaa971e405b",
   "metadata": {},
   "source": [
    "# PASSO 07 – REPETIÇÃO COM PARA"
   ]
  },
  {
   "cell_type": "markdown",
   "id": "7b352aa7-010c-4652-8b7e-be644f2d3931",
   "metadata": {},
   "source": [
    "64) Desenvolva um programa usando a estrutura “para” que mostre na tela a\r\n",
    "seguinte contagem:\r\n",
    "0 5 10 15 20 25 30 35 40 Acabou!"
   ]
  },
  {
   "cell_type": "code",
   "execution_count": null,
   "id": "ae50f040-8957-4a13-b97d-51085c3aeaeb",
   "metadata": {},
   "outputs": [],
   "source": [
    "for i in range(0, 41, 5):\n",
    "    print(i, end=' ')\n",
    "print(\"Acabou!\")"
   ]
  },
  {
   "cell_type": "markdown",
   "id": "609e2d0b-c8d0-4833-82b5-9303f5a48b5b",
   "metadata": {},
   "source": [
    "65) Desenvolva um programa usando a estrutura “para” que mostre na tela a\r\n",
    "seguinte contagem:\r\n",
    "100 90 80 70 60 50 40 30 20 10 0 Acabou!"
   ]
  },
  {
   "cell_type": "code",
   "execution_count": null,
   "id": "46dae70a-e3f6-4c8b-a5bb-0674d18ad16f",
   "metadata": {},
   "outputs": [],
   "source": [
    "for i in range(100, -1, -10):\n",
    "    print(i, end=' ')\n",
    "print(\"Acabou!\")"
   ]
  },
  {
   "cell_type": "markdown",
   "id": "27ef80d6-530e-4f7c-8c74-95ae8d668e09",
   "metadata": {},
   "source": [
    "66) Escreva um programa que leia um número qualquer e mostre a tabuada desse\r\n",
    "número, usando a estrutura “para”.\r\n",
    "Ex: Digite um valor: 5\r\n",
    "5 x 1 = 5\r\n",
    "5 x 2 = 10\r\n",
    "5 x 3 = 15 ..."
   ]
  },
  {
   "cell_type": "code",
   "execution_count": null,
   "id": "4f0fcd60-83ac-45b8-9f29-bab5d4e2e437",
   "metadata": {},
   "outputs": [],
   "source": [
    "numero = int(input(\"Digite um valor: \"))\n",
    "for i in range(1, 11):\n",
    "    print(f\"{numero} x {i} = {numero * i}\")"
   ]
  },
  {
   "cell_type": "markdown",
   "id": "21753c67-ebe0-49ca-8dbe-957cd2239b47",
   "metadata": {},
   "source": [
    "67) Faça um programa usando a estrutura “para” que leia um número inteiro\r\n",
    "positivo e mostre na tela uma contagem de 0 até o valor digitado:\r\n",
    "Ex: Digite um valor: 9\r\n",
    "Contagem: 0, 1, 2, 3, 4, 5, 6, 7, 8, 9, FIM!"
   ]
  },
  {
   "cell_type": "code",
   "execution_count": null,
   "id": "9cb50c38-d892-4939-9189-eb4dcc410fa4",
   "metadata": {},
   "outputs": [],
   "source": [
    "valor = int(input(\"Digite um valor: \"))\n",
    "for i in range(valor + 1):\n",
    "    print(i, end=' ')\n",
    "print(\"FIM!\")"
   ]
  },
  {
   "cell_type": "markdown",
   "id": "d55ca4c2-a509-45b5-8043-a6fbd3ef73c0",
   "metadata": {},
   "source": [
    "68) Crie um programa que leia sexo e peso de 8 pessoas, usando a estrutura\r\n",
    "“para”. No final, mostre na tela:\r\n",
    "a) Quantas mulheres foram cadastradas\r\n",
    "b) Quantos homens pesam mais de 100Kg\r\n",
    "c) A média de peso entre as mulheres\r\n",
    "d) O maior peso entre os homens"
   ]
  },
  {
   "cell_type": "code",
   "execution_count": null,
   "id": "832fad1c-a7ea-491a-8fe6-a68dec864909",
   "metadata": {},
   "outputs": [],
   "source": [
    "total_mulheres = total_homens_mais_100kg = soma_peso_mulheres = 0\n",
    "maior_peso_homens = 0\n",
    "\n",
    "for _ in range(8):\n",
    "    sexo = input(\"Sexo da pessoa (M/F): \").upper()\n",
    "    peso = float(input(\"Peso da pessoa (em kg): \"))\n",
    "\n",
    "    if sexo == 'F':\n",
    "        total_mulheres += 1\n",
    "        soma_peso_mulheres += peso\n",
    "    elif sexo == 'M':\n",
    "        if peso > 100:\n",
    "            total_homens_mais_100kg += 1\n",
    "        if peso > maior_peso_homens:\n",
    "            maior_peso_homens = peso\n",
    "\n",
    "media_peso_mulheres = soma_peso_mulheres / total_mulheres if total_mulheres > 0 else 0\n",
    "\n",
    "print(f\"a) Mulheres cadastradas: {total_mulheres}\")\n",
    "print(f\"b) Homens com mais de 100Kg: {total_homens_mais_100kg}\")\n",
    "print(f\"c) Média de peso das mulheres: {media_peso_mulheres:.2f}Kg\")\n",
    "print(f\"d) Maior peso entre os homens: {maior_peso_homens}Kg\")"
   ]
  },
  {
   "cell_type": "markdown",
   "id": "652fb8b0-c4f0-4610-9aa6-a0f253828ff8",
   "metadata": {},
   "source": [
    "69) [DESAFIO] Desenvolva um programa que leia o primeiro termo e a razão de uma\r\n",
    "PA (Progressão Aritmética), mostrando na tela os 10 primeiros elementos da PA e\r\n",
    "a soma entre todos os valores da sequência."
   ]
  },
  {
   "cell_type": "code",
   "execution_count": null,
   "id": "9f0e0290-9932-4223-95bb-47d31ded5bc5",
   "metadata": {},
   "outputs": [],
   "source": [
    "primeiro_termo = int(input(\"Primeiro termo da PA: \"))\n",
    "razao = int(input(\"Razão da PA: \"))\n",
    "soma = 0\n",
    "\n",
    "for i in range(10):\n",
    "    termo = primeiro_termo + i * razao\n",
    "    soma += termo\n",
    "    print(termo, end=' ')\n",
    "print(\"\\nSoma dos termos: \", soma)"
   ]
  },
  {
   "cell_type": "markdown",
   "id": "cb28d20d-b822-44b3-8197-2520c75deaaa",
   "metadata": {},
   "source": [
    "70) [DESAFIO] Faça um programa que mostre os 10 primeiros elementos da Sequência\r\n",
    "de Fibonacci:\r\n",
    "1 1 2 3 5 8 13 21..."
   ]
  },
  {
   "cell_type": "code",
   "execution_count": null,
   "id": "20823f0f-4b74-4a96-b47d-d23184582565",
   "metadata": {},
   "outputs": [],
   "source": [
    "a, b = 1, 1\n",
    "for _ in range(10):\n",
    "    print(a, end=' ')\n",
    "    a, b = b, a + b"
   ]
  },
  {
   "cell_type": "code",
   "execution_count": null,
   "id": "d86dcb93-301a-4e33-9b01-7fa19b3916b1",
   "metadata": {},
   "outputs": [],
   "source": []
  }
 ],
 "metadata": {
  "kernelspec": {
   "display_name": "Python 3 (ipykernel)",
   "language": "python",
   "name": "python3"
  },
  "language_info": {
   "codemirror_mode": {
    "name": "ipython",
    "version": 3
   },
   "file_extension": ".py",
   "mimetype": "text/x-python",
   "name": "python",
   "nbconvert_exporter": "python",
   "pygments_lexer": "ipython3",
   "version": "3.12.0"
  }
 },
 "nbformat": 4,
 "nbformat_minor": 5
}
