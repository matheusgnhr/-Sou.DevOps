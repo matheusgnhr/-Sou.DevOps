{
 "cells": [
  {
   "cell_type": "markdown",
   "id": "8643ed7e-9a55-49fc-bd5c-4a29215ef0aa",
   "metadata": {},
   "source": [
    "# PASSO 08 – VETORES\n",
    "\n",
    "##### Em Python, os \"Vetores\" são chamados de \"Listas\" e utilizamos colchetes para armazenar as variáveis ( \"[ ]\" )."
   ]
  },
  {
   "cell_type": "markdown",
   "id": "10f6e4a5-f6fd-4e59-8a04-8b4d091a63cc",
   "metadata": {},
   "source": [
    "71) Faça um programa que preencha automaticamente um vetor numérico com 8\r\n",
    "posições, conforme abaixo:\r\n",
    "999 999 999 999 999 999 999 999\r\n",
    "0 1 2 3 4 5 6 7"
   ]
  },
  {
   "cell_type": "code",
   "execution_count": 20,
   "id": "4aea22a3-eef7-4c2f-b74c-1a67b3b966b8",
   "metadata": {},
   "outputs": [
    {
     "name": "stdout",
     "output_type": "stream",
     "text": [
      "[999, 999, 999, 999, 999, 999, 999, 999]\n",
      "[0, 1, 2, 3, 4, 5, 6, 7]\n"
     ]
    }
   ],
   "source": [
    "# Criar a primeira lista com oito valores iguais a 999\n",
    "vetor = [999 for _ in range(8)]\n",
    "\n",
    "# Criar a segunda lista com valores de 0 a 7\n",
    "vetor2 = [i for i in range(8)]\n",
    "\n",
    "print(vetor)  # Imprimir a primeira lista\n",
    "print(vetor2)  # Imprimir a segunda lista"
   ]
  },
  {
   "cell_type": "markdown",
   "id": "0f05cfba-aa48-4675-b9b5-6f29f7e1028d",
   "metadata": {},
   "source": [
    "72) Crie um programa que preencha automaticamente (usando lógica, não apenas\r\n",
    "atribuindo diretamente) um vetor numérico com 10 posições, conforme abaixo:\r\n",
    "5 10 15 20 25 30 35 40 45 50\r\n",
    "0 1 2 3 4 5 6 7 8 9"
   ]
  },
  {
   "cell_type": "code",
   "execution_count": 19,
   "id": "67ef33b6-a07a-44d4-8b06-99b3e75a07cf",
   "metadata": {},
   "outputs": [
    {
     "name": "stdout",
     "output_type": "stream",
     "text": [
      "[999, 949, 899, 849, 799, 749, 699, 649, 599, 549, 499]\n",
      "[0, 5, 10, 15, 20, 25, 30, 35, 40, 45, 50]\n"
     ]
    }
   ],
   "source": [
    "# Criar a primeira lista com valores de 999 a 0, decrementando de 50 em 50\n",
    "vetor = [999 - i * 50 for i in range(11)]  # Inclui o número 999\n",
    "\n",
    "# Criar a segunda lista com valores de 0 a 50, incrementando de 5 em 5\n",
    "vetor2 = [i * 5 for i in range(11)]  # Inclui o número 50\n",
    "\n",
    "print(vetor)  # Imprimir a primeira lista\n",
    "print(vetor2)  # Imprimir a segunda lista"
   ]
  },
  {
   "cell_type": "markdown",
   "id": "f2e32e33-5176-4c98-aefc-ed21d58f6d58",
   "metadata": {},
   "source": [
    "73) Crie um programa que preencha automaticamente (usando lógica, não apenas\n",
    "atribuindo diretamente) um vetor numérico com 10 posições, conforme abaixo:\n",
    "9 8 7 6 5 4 3 2 1 0\n",
    "0 1 2 3 4 5 6 7 8 9"
   ]
  },
  {
   "cell_type": "code",
   "execution_count": 18,
   "id": "3376c30f-9db3-4de6-9e17-dea530d915f9",
   "metadata": {},
   "outputs": [
    {
     "name": "stdout",
     "output_type": "stream",
     "text": [
      "[9, 8, 7, 6, 5, 4, 3, 2, 1, 0]\n",
      "[0, 1, 2, 3, 4, 5, 6, 7, 8, 9]\n"
     ]
    }
   ],
   "source": [
    "vetor = [9 - i for i in range(10)]\n",
    "print(vetor)\n",
    "\n",
    "vetor2 = [0 + i for i in range(10)]\n",
    "print(vetor2)"
   ]
  },
  {
   "cell_type": "markdown",
   "id": "fe735918-b479-41d8-b6e7-6734aa42e2b6",
   "metadata": {},
   "source": [
    "74) Crie um programa que preencha automaticamente (usando lógica, não apenas\r\n",
    "atribuindo diretamente) um vetor numérico com 10 posições, conforme abaixo:\r\n",
    "5 3 5 3 5 3 5 3 5 3\r\n",
    "0 1 2 3 4 5 6 7 8 9"
   ]
  },
  {
   "cell_type": "code",
   "execution_count": 22,
   "id": "53a0194e-a088-41b3-a54b-c21555384cb2",
   "metadata": {},
   "outputs": [
    {
     "name": "stdout",
     "output_type": "stream",
     "text": [
      "[5, 3, 5, 3, 5, 3, 5, 3, 5, 3]\n",
      "[0, 1, 2, 3, 4, 5, 6, 7, 8, 9]\n"
     ]
    }
   ],
   "source": [
    "vetor_74 = [5 if i % 2 == 0 else 3 for i in range(10)]\n",
    "print(vetor_74)\n",
    "\n",
    "vetor_74_2 = [i for i in range(10)]\n",
    "print(vetor_74_2)"
   ]
  },
  {
   "cell_type": "markdown",
   "id": "ca3b35e7-01b0-41d0-a8e1-5be28b67109a",
   "metadata": {},
   "source": [
    "75) Crie um programa que preencha automaticamente (usando lógica, não apenas\r\n",
    "atribuindo diretamente) um vetor numérico com 15 posições com os primeiros\r\n",
    "elementos da sequência de Fibonacci:\r\n",
    "1 1 2 3 5 8 13 21 34 55 89 144 233 377 610 987\r\n",
    "0 1 2 3 4 5 6 7 8 9 10 11 12 13 14 15"
   ]
  },
  {
   "cell_type": "code",
   "execution_count": 26,
   "id": "c3493427-0ac6-4492-b74c-6548b1c20b28",
   "metadata": {},
   "outputs": [
    {
     "name": "stdout",
     "output_type": "stream",
     "text": [
      "[1, 1, 2, 3, 5, 8, 13, 21, 34, 55, 89, 144, 233, 377, 610]\n",
      "[0, 1, 2, 3, 4, 5, 6, 7, 8, 9, 10, 11, 12, 13, 14]\n"
     ]
    }
   ],
   "source": [
    "# Inicializando os dois primeiros números da sequência de Fibonacci\n",
    "vetor_75 = [1, 1]\n",
    "\n",
    "# Completando o vetor com os próximos 13 números da sequência de Fibonacci\n",
    "for i in range(2, 15):\n",
    "    next_number = vetor_75[i - 1] + vetor_75[i - 2]\n",
    "    vetor_75.append(next_number)\n",
    "\n",
    "print(vetor_75)\n",
    "\n",
    "# Criando uma lista de 0 a 14, equivalente à segunda linha do exercício\n",
    "vetor_75_2 = [i for i in range(15)]\n",
    "print(vetor_75_2)"
   ]
  },
  {
   "cell_type": "markdown",
   "id": "6dfd7227-049e-421a-9091-faf2f79872c3",
   "metadata": {},
   "source": [
    "76) Crie um programa que preencha automaticamente um vetor numérico com 7\r\n",
    "números gerados aleatoriamente pelo computador e depois mostre os valores\r\n",
    "gerados na tela."
   ]
  },
  {
   "cell_type": "code",
   "execution_count": 27,
   "id": "7a62a8ed-72b8-4ec6-a6b2-e05a5617c659",
   "metadata": {},
   "outputs": [
    {
     "name": "stdout",
     "output_type": "stream",
     "text": [
      "Valores gerados: [33, 39, 48, 29, 24, 26, 16]\n"
     ]
    }
   ],
   "source": [
    "import random\n",
    "\n",
    "vetor = [random.randint(1, 100) for _ in range(7)]\n",
    "print(\"Valores gerados:\", vetor)"
   ]
  },
  {
   "cell_type": "markdown",
   "id": "ccfc07e8-7d2c-4bab-bf35-cf7a0d8f80b9",
   "metadata": {},
   "source": [
    "77) Faça um programa que leia 7 nomes de pessoas e guarde-os em um vetor. No\r\n",
    "final, mostre uma listagem com todos os nomes informados, na ordem inversa\r\n",
    "daquela em que eles foram informados."
   ]
  },
  {
   "cell_type": "code",
   "execution_count": 28,
   "id": "422cb4ea-6a74-414f-aa95-757a6620c2b5",
   "metadata": {},
   "outputs": [
    {
     "name": "stdin",
     "output_type": "stream",
     "text": [
      "Nome da pessoa 1:  Matheus\n",
      "Nome da pessoa 2:  Jeniffer\n",
      "Nome da pessoa 3:  Tke\n",
      "Nome da pessoa 4:  Majth\n",
      "Nome da pessoa 5:  Skurte\n",
      "Nome da pessoa 6:  Ksmk\n",
      "Nome da pessoa 7:  Khhuh\n"
     ]
    },
    {
     "name": "stdout",
     "output_type": "stream",
     "text": [
      "Nomes informados, na ordem inversa: ['Khhuh', 'Ksmk', 'Skurte', 'Majth', 'Tke', 'Jeniffer', 'Matheus']\n"
     ]
    }
   ],
   "source": [
    "nomes = [input(f\"Nome da pessoa {i+1}: \") for i in range(7)]\n",
    "print(\"Nomes informados, na ordem inversa:\", nomes[::-1])"
   ]
  },
  {
   "cell_type": "markdown",
   "id": "65e7e61f-bcc6-430d-a426-b2aaac4a32ac",
   "metadata": {},
   "source": [
    "78) Escreva um programa que leia 15 números e guarde-os em um vetor. No final,\r\n",
    "mostre o vetor inteiro na tela e em seguida mostre em que posições foram\r\n",
    "digitados valores que são múltiplos de 10."
   ]
  },
  {
   "cell_type": "code",
   "execution_count": 29,
   "id": "7c6d5fb3-cfb0-4bd7-a342-83a6dad8c472",
   "metadata": {},
   "outputs": [
    {
     "name": "stdin",
     "output_type": "stream",
     "text": [
      "Digite o número 1:  2\n",
      "Digite o número 2:  3\n",
      "Digite o número 3:  4\n",
      "Digite o número 4:  2\n",
      "Digite o número 5:  6\n",
      "Digite o número 6:  3\n",
      "Digite o número 7:  9\n",
      "Digite o número 8:  0\n",
      "Digite o número 9:  100\n",
      "Digite o número 10:  92\n",
      "Digite o número 11:  29\n",
      "Digite o número 12:  23\n",
      "Digite o número 13:  55\n",
      "Digite o número 14:  433\n",
      "Digite o número 15:  22\n"
     ]
    },
    {
     "name": "stdout",
     "output_type": "stream",
     "text": [
      "Vetor completo: [2, 3, 4, 2, 6, 3, 9, 0, 100, 92, 29, 23, 55, 433, 22]\n",
      "Posições com múltiplos de 10: [7, 8]\n"
     ]
    }
   ],
   "source": [
    "numeros = [int(input(f\"Digite o número {i+1}: \")) for i in range(15)]\n",
    "multiplos_dez = [i for i, num in enumerate(numeros) if num % 10 == 0]\n",
    "print(\"Vetor completo:\", numeros)\n",
    "print(\"Posições com múltiplos de 10:\", multiplos_dez)"
   ]
  },
  {
   "cell_type": "markdown",
   "id": "e2c3ae75-a799-49bf-bc76-5b4e6ae9d11d",
   "metadata": {},
   "source": [
    "79) Desenvolva um programa que leia 10 números inteiros e guarde-os em um vetor.\r\n",
    "No final, mostre quais são os números pares que foram digitados e em que\r\n",
    "posições eles estão armazenados."
   ]
  },
  {
   "cell_type": "code",
   "execution_count": 31,
   "id": "677b6cac-d457-47b2-9cd9-2af5b8284d83",
   "metadata": {},
   "outputs": [
    {
     "name": "stdin",
     "output_type": "stream",
     "text": [
      "Digite o número 1:  2\n",
      "Digite o número 2:  4\n",
      "Digite o número 3:  45\n",
      "Digite o número 4:  5\n",
      "Digite o número 5:  32\n",
      "Digite o número 6:  29\n",
      "Digite o número 7:  98\n",
      "Digite o número 8:  38\n",
      "Digite o número 9:  2\n",
      "Digite o número 10:  0\n"
     ]
    },
    {
     "name": "stdout",
     "output_type": "stream",
     "text": [
      "Números pares e suas posições: [(0, 2), (1, 4), (4, 32), (6, 98), (7, 38), (8, 2), (9, 0)]\n"
     ]
    }
   ],
   "source": [
    "numeros = [int(input(f\"Digite o número {i+1}: \")) for i in range(10)]\n",
    "pares = [(i, num) for i, num in enumerate(numeros) if num % 2 == 0]\n",
    "print(\"Números pares e suas posições:\", pares)"
   ]
  },
  {
   "cell_type": "markdown",
   "id": "bdbd883f-c505-413d-8f44-339df8411bf7",
   "metadata": {},
   "source": [
    "80) Faça um algoritmo que preencha um vetor de 30 posições com números entre 1 e\r\n",
    "15 sorteados pelo computador. Depois disso, peça para o usuário digitar um\r\n",
    "número (chave) e seu programa deve mostrar em que posições essa chave foi\r\n",
    "encontrada. Mostre também quantas vezes a chave foi sorteada."
   ]
  },
  {
   "cell_type": "code",
   "execution_count": 34,
   "id": "c4058779-36ea-401a-b490-132c11a5d302",
   "metadata": {},
   "outputs": [
    {
     "name": "stdin",
     "output_type": "stream",
     "text": [
      "Digite um número para buscar:  9\n"
     ]
    },
    {
     "name": "stdout",
     "output_type": "stream",
     "text": [
      "Vetor: [5, 12, 1, 8, 13, 5, 8, 9, 11, 15, 2, 11, 11, 7, 4, 14, 14, 10, 7, 10, 10, 4, 15, 12, 1, 11, 12, 12, 7, 9]\n",
      "O número 9 foi encontrado nas posições: [7, 29]\n",
      "O número 9 foi sorteado 2 vezes.\n"
     ]
    }
   ],
   "source": [
    "vetor = [random.randint(1, 15) for _ in range(30)]\n",
    "chave = int(input(\"Digite um número para buscar: \"))\n",
    "posicoes = [i for i, num in enumerate(vetor) if num == chave]\n",
    "print(\"Vetor:\", vetor)\n",
    "print(f\"O número {chave} foi encontrado nas posições:\", posicoes)\n",
    "print(f\"O número {chave} foi sorteado {len(posicoes)} vezes.\")"
   ]
  },
  {
   "cell_type": "markdown",
   "id": "59bdd8e3-5c2f-412b-99ad-da315aff2f6c",
   "metadata": {},
   "source": [
    "81) Crie um programa que leia a idade de 8 pessoas e guarde-as em um vetor. No\r\n",
    "final, mostre:\r\n",
    "a) Qual é a média de idade das pessoas cadastradas\r\n",
    "b) Em quais posições temos pessoas com mais de 25 anos\r\n",
    "c) Qual foi a maior idade digitada (podem haver repetições)\r\n",
    "d) Em que posições digitamos a maior idade"
   ]
  },
  {
   "cell_type": "code",
   "execution_count": 35,
   "id": "0dcc9ad1-2ba1-4a99-8e6c-bca86e5ba0d7",
   "metadata": {},
   "outputs": [
    {
     "name": "stdin",
     "output_type": "stream",
     "text": [
      "Digite a idade da pessoa 1:  2\n",
      "Digite a idade da pessoa 2:  94\n",
      "Digite a idade da pessoa 3:  8\n",
      "Digite a idade da pessoa 4:  7\n",
      "Digite a idade da pessoa 5:  3\n",
      "Digite a idade da pessoa 6:  4\n",
      "Digite a idade da pessoa 7:  87\n",
      "Digite a idade da pessoa 8:  2\n"
     ]
    },
    {
     "name": "stdout",
     "output_type": "stream",
     "text": [
      "Média de idade: 25.9\n",
      "Posições com pessoas mais de 25 anos: [1, 6]\n",
      "Maior idade: 94\n",
      "Posições com a maior idade: [1]\n"
     ]
    }
   ],
   "source": [
    "idades = [int(input(f\"Digite a idade da pessoa {i+1}: \")) for i in range(8)]\n",
    "media = sum(idades) / len(idades)\n",
    "mais_25 = [i for i, idade in enumerate(idades) if idade > 25]\n",
    "maior_idade = max(idades)\n",
    "posicoes_maior_idade = [i for i, idade in enumerate(idades) if idade == maior_idade]\n",
    "\n",
    "print(f\"Média de idade: {media:.1f}\")\n",
    "print(f\"Posições com pessoas mais de 25 anos: {mais_25}\")\n",
    "print(f\"Maior idade: {maior_idade}\")\n",
    "print(f\"Posições com a maior idade: {posicoes_maior_idade}\")"
   ]
  },
  {
   "cell_type": "markdown",
   "id": "15bf6340-2b31-4ea8-b531-7119b02f44e4",
   "metadata": {},
   "source": [
    "82) Faça um algoritmo que leia a nota de 10 alunos de uma turma e guarde-as em\r\n",
    "um vetor. No final, mostre:\r\n",
    "a) Qual é a média da turma\r\n",
    "b) Quantos alunos estão acima da média da turma\r\n",
    "c) Qual foi a maior nota digitada\r\n",
    "d) Em que posições a maior nota aparece"
   ]
  },
  {
   "cell_type": "code",
   "execution_count": 36,
   "id": "48330577-c221-457c-85ca-11208e89ee96",
   "metadata": {},
   "outputs": [
    {
     "name": "stdin",
     "output_type": "stream",
     "text": [
      "Digite a nota do aluno 1:  20\n",
      "Digite a nota do aluno 2:  39\n",
      "Digite a nota do aluno 3:  18\n",
      "Digite a nota do aluno 4:  2\n",
      "Digite a nota do aluno 5:  4\n",
      "Digite a nota do aluno 6:  8\n",
      "Digite a nota do aluno 7:  2\n",
      "Digite a nota do aluno 8:  17\n",
      "Digite a nota do aluno 9:  28\n",
      "Digite a nota do aluno 10:  9\n"
     ]
    },
    {
     "name": "stdout",
     "output_type": "stream",
     "text": [
      "Média da turma: 14.7\n",
      "Alunos acima da média: 5\n",
      "Maior nota: 39.0\n",
      "Posições com a maior nota: [1]\n"
     ]
    }
   ],
   "source": [
    "notas = [float(input(f\"Digite a nota do aluno {i+1}: \")) for i in range(10)]\n",
    "media = sum(notas) / len(notas)\n",
    "alunos_acima_media = len([nota for nota in notas if nota > media])\n",
    "maior_nota = max(notas)\n",
    "posicoes_maior_nota = [i for i, nota in enumerate(notas) if nota == maior_nota]\n",
    "\n",
    "print(f\"Média da turma: {media:.1f}\")\n",
    "print(f\"Alunos acima da média: {alunos_acima_media}\")\n",
    "print(f\"Maior nota: {maior_nota}\")\n",
    "print(f\"Posições com a maior nota: {posicoes_maior_nota}\")"
   ]
  },
  {
   "cell_type": "markdown",
   "id": "c8d9d982-a697-4a49-b41e-ca9930e95779",
   "metadata": {},
   "source": [
    "83) [DESAFIO] Crie uma lógica que preencha um vetor de 20 posições com números\r\n",
    "aleatórios (entre 0 e 99) gerados pelo computador. Logo em seguida, mostre os\r\n",
    "números gerados e depois coloque o vetor em ordem crescente, mostrando no final\r\n",
    "os valores ordenados."
   ]
  },
  {
   "cell_type": "code",
   "execution_count": 37,
   "id": "6ac7741b-7c61-4e55-8572-b333c1ec4d55",
   "metadata": {},
   "outputs": [
    {
     "name": "stdout",
     "output_type": "stream",
     "text": [
      "Números gerados: [29, 87, 53, 73, 40, 92, 73, 21, 41, 48, 30, 32, 41, 61, 58, 38, 99, 79, 7, 68]\n",
      "Vetor ordenado: [7, 21, 29, 30, 32, 38, 40, 41, 41, 48, 53, 58, 61, 68, 73, 73, 79, 87, 92, 99]\n"
     ]
    }
   ],
   "source": [
    "import random\n",
    "\n",
    "vetor = [random.randint(0, 99) for _ in range(20)]\n",
    "print(\"Números gerados:\", vetor)\n",
    "vetor.sort()\n",
    "print(\"Vetor ordenado:\", vetor)"
   ]
  },
  {
   "cell_type": "markdown",
   "id": "65989439-8ea6-4d2b-a3bf-46967865c7d8",
   "metadata": {},
   "source": [
    "84) Crie um programa que leia o nome e a idade de 9 pessoas e guarde esses\r\n",
    "valores em dois vetores, em posições relacionadas. No final, mostre uma listagem\r\n",
    "contendo apenas os dados das pessoas menores de idade."
   ]
  },
  {
   "cell_type": "code",
   "execution_count": 38,
   "id": "480b0c8a-61a7-4026-b416-dc02f6525af4",
   "metadata": {},
   "outputs": [
    {
     "name": "stdin",
     "output_type": "stream",
     "text": [
      "Digite o nome:  Matheus\n",
      "Digite a idade:  12\n",
      "Digite o nome:  kdj\n",
      "Digite a idade:  2\n",
      "Digite o nome:  jh\n",
      "Digite a idade:  9\n",
      "Digite o nome:  hdd\n",
      "Digite a idade:  9\n",
      "Digite o nome:  shjsj\n",
      "Digite a idade:  9\n",
      "Digite o nome:  ahsk\n",
      "Digite a idade:  3\n",
      "Digite o nome:  ajskdh\n",
      "Digite a idade:  2\n",
      "Digite o nome:  zshdkjsan\n",
      "Digite a idade:  3\n",
      "Digite o nome:  nkjdsnsalkjdm\n",
      "Digite a idade:  2\n"
     ]
    },
    {
     "name": "stdout",
     "output_type": "stream",
     "text": [
      "Dados de pessoas menores de idade: [('Matheus', 12), ('kdj', 2), ('jh', 9), ('hdd', 9), ('shjsj', 9), ('ahsk', 3), ('ajskdh', 2), ('zshdkjsan', 3), ('nkjdsnsalkjdm', 2)]\n"
     ]
    }
   ],
   "source": [
    "nomes = []\n",
    "idades = []\n",
    "\n",
    "for _ in range(9):\n",
    "    nomes.append(input(\"Digite o nome: \"))\n",
    "    idades.append(int(input(\"Digite a idade: \")))\n",
    "\n",
    "dados_menores = [(nome, idade) for nome, idade in zip(nomes, idades) if idade < 18]\n",
    "print(\"Dados de pessoas menores de idade:\", dados_menores)"
   ]
  },
  {
   "cell_type": "markdown",
   "id": "fe7f1d99-8a05-4a5c-b590-849e1477a26e",
   "metadata": {},
   "source": [
    "85) Faça um algoritmo que leia o nome, o sexo e o salário de 5 funcionários e\n",
    "guarde esses dados em três vetores. No final, mostre uma listagem contendo\n",
    "apenas os dados das funcionárias mulheres que ganham mais de RS5 mil."
   ]
  },
  {
   "cell_type": "code",
   "execution_count": 39,
   "id": "f7fcb0ac-2c97-4585-ad9a-35c87ca5c06a",
   "metadata": {},
   "outputs": [
    {
     "name": "stdin",
     "output_type": "stream",
     "text": [
      "Digite o nome do funcionário:  mATHESU\n",
      "Sexo do funcionário (M/F):  Matheus\n",
      "Salário do funcionário: R$ 213\n",
      "Digite o nome do funcionário:  12\n",
      "Sexo do funcionário (M/F):  312\n",
      "Salário do funcionário: R$ 2132\n",
      "Digite o nome do funcionário:  33\n",
      "Sexo do funcionário (M/F):  121\n",
      "Salário do funcionário: R$ 23\n",
      "Digite o nome do funcionário:  12\n",
      "Sexo do funcionário (M/F):  121\n",
      "Salário do funcionário: R$ 12\n",
      "Digite o nome do funcionário:  123\n",
      "Sexo do funcionário (M/F):  433\n",
      "Salário do funcionário: R$ 32\n"
     ]
    },
    {
     "name": "stdout",
     "output_type": "stream",
     "text": [
      "Dados das funcionárias que ganham mais de R$5 mil: []\n"
     ]
    }
   ],
   "source": [
    "nomes = []\n",
    "sexos = []\n",
    "salarios = []\n",
    "\n",
    "for _ in range(5):\n",
    "    nomes.append(input(\"Digite o nome do funcionário: \"))\n",
    "    sexos.append(input(\"Sexo do funcionário (M/F): \").upper())\n",
    "    salarios.append(float(input(\"Salário do funcionário: R$\")))\n",
    "\n",
    "dados_mulheres_alta_renda = [(nome, salario) for nome, sexo, salario in zip(nomes, sexos, salarios) if sexo == 'F' and salario > 5000]\n",
    "print(\"Dados das funcionárias que ganham mais de R$5 mil:\", dados_mulheres_alta_renda)"
   ]
  },
  {
   "cell_type": "code",
   "execution_count": null,
   "id": "0bbcddce-6ca5-4708-9d86-0e9f7380d68e",
   "metadata": {},
   "outputs": [],
   "source": []
  }
 ],
 "metadata": {
  "kernelspec": {
   "display_name": "Python 3 (ipykernel)",
   "language": "python",
   "name": "python3"
  },
  "language_info": {
   "codemirror_mode": {
    "name": "ipython",
    "version": 3
   },
   "file_extension": ".py",
   "mimetype": "text/x-python",
   "name": "python",
   "nbconvert_exporter": "python",
   "pygments_lexer": "ipython3",
   "version": "3.12.0"
  }
 },
 "nbformat": 4,
 "nbformat_minor": 5
}
