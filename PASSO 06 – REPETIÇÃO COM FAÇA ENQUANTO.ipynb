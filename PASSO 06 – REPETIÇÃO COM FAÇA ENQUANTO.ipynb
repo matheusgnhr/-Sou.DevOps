{
 "cells": [
  {
   "cell_type": "markdown",
   "id": "a6ee1073-030c-464e-b911-beb29c74a679",
   "metadata": {},
   "source": [
    "# PASSO 06 – REPETIÇÃO COM FAÇA ENQUANTO"
   ]
  },
  {
   "cell_type": "markdown",
   "id": "560bd5dc-df22-4890-9d0d-78be2f948aad",
   "metadata": {},
   "source": [
    "##### Atualmente, Python não possui uma estrutura de repetição nativa equivalente ao \"do while\" que é comum em outras linguagens de programação como C ou Java. No entanto, podemos simular um comportamento semelhante usando um loop while com uma condição no final. Vamos aplicar isso nos exercícios propostos:"
   ]
  },
  {
   "cell_type": "markdown",
   "id": "a7692895-ff2a-4b57-b01b-3d7a7d73658d",
   "metadata": {},
   "source": [
    "61) Crie um programa que mostre na tela a seguinte contagem, usando a estrutura\r\n",
    "“faça enquanto”\r\n",
    "0 3 6 9 12 15 18 21 24 27 30 Acabou!"
   ]
  },
  {
   "cell_type": "code",
   "execution_count": 1,
   "id": "6e4b1736-ffec-4c70-9a19-a83cf77fced5",
   "metadata": {},
   "outputs": [
    {
     "name": "stdout",
     "output_type": "stream",
     "text": [
      "0 3 6 9 12 15 18 21 24 27 30 Acabou!\n"
     ]
    }
   ],
   "source": [
    "i = 0\n",
    "while True:\n",
    "    print(i, end=' ')\n",
    "    i += 3\n",
    "    if i > 30:\n",
    "        break\n",
    "print(\"Acabou!\")"
   ]
  },
  {
   "cell_type": "markdown",
   "id": "48a2cddc-74cd-4e7d-be1a-f01c7a94d093",
   "metadata": {},
   "source": [
    "62) Faça um programa usando a estrutura “faça enquanto” que leia a idade de\r\n",
    "várias pessoas. A cada laço, você deverá perguntar para o usuário se ele quer ou\r\n",
    "não continuar a digitar dados. No final, quando o usuário decidir parar, mostre\r\n",
    "na tela:\r\n",
    "a) Quantas idades foram digitadas\r\n",
    "b) Qual é a média entre as idades digitadas\r\n",
    "c) Quantas pessoas tem 21 anos ou mais."
   ]
  },
  {
   "cell_type": "code",
   "execution_count": 2,
   "id": "df7df5e5-182f-4990-acdb-4cbc46f6567b",
   "metadata": {},
   "outputs": [
    {
     "name": "stdin",
     "output_type": "stream",
     "text": [
      "Digite uma idade:  10\n",
      "Quer continuar? (S/N):  2\n",
      "Digite uma idade:  30\n",
      "Quer continuar? (S/N):  n\n"
     ]
    },
    {
     "name": "stdout",
     "output_type": "stream",
     "text": [
      "Total de idades digitadas: 2\n",
      "Média das idades: 20.0\n",
      "Pessoas com 21 anos ou mais: 1\n"
     ]
    }
   ],
   "source": [
    "idades = []\n",
    "while True:\n",
    "    idade = int(input(\"Digite uma idade: \"))\n",
    "    idades.append(idade)\n",
    "\n",
    "    continuar = input(\"Quer continuar? (S/N): \").upper()\n",
    "    if continuar == 'N':\n",
    "        break\n",
    "\n",
    "media_idades = sum(idades) / len(idades)\n",
    "maiores_21 = sum(1 for idade in idades if idade >= 21)\n",
    "\n",
    "print(f\"Total de idades digitadas: {len(idades)}\")\n",
    "print(f\"Média das idades: {media_idades:.1f}\")\n",
    "print(f\"Pessoas com 21 anos ou mais: {maiores_21}\")"
   ]
  },
  {
   "cell_type": "markdown",
   "id": "2b0039cf-b0e2-4bc6-8a69-09d9d789dd75",
   "metadata": {},
   "source": [
    "63) Crie um programa usando a estrutura “faça enquanto” que leia vários números.\r\n",
    "A cada laço, pergunte se o usuário quer continuar ou não. No final, mostre na\r\n",
    "tela:\r\n",
    "a) O somatório entre todos os valores\r\n",
    "b) Qual foi o menor valor digitado\r\n",
    "c) A média entre todos os valores\r\n",
    "d) Quantos valores são pares"
   ]
  },
  {
   "cell_type": "code",
   "execution_count": 3,
   "id": "cd18f3cf-d75a-40e9-ba2a-0cb25206696e",
   "metadata": {},
   "outputs": [
    {
     "name": "stdin",
     "output_type": "stream",
     "text": [
      "Digite um número:  20\n",
      "Quer continuar? (S/N):  s\n",
      "Digite um número:  0\n",
      "Quer continuar? (S/N):  n\n"
     ]
    },
    {
     "name": "stdout",
     "output_type": "stream",
     "text": [
      "Somatório: 20\n",
      "Menor valor: 0\n",
      "Média: 10.0\n",
      "Valores pares: 2\n"
     ]
    }
   ],
   "source": [
    "numeros = []\n",
    "while True:\n",
    "    numero = int(input(\"Digite um número: \"))\n",
    "    numeros.append(numero)\n",
    "\n",
    "    continuar = input(\"Quer continuar? (S/N): \").upper()\n",
    "    if continuar == 'N':\n",
    "        break\n",
    "\n",
    "soma = sum(numeros)\n",
    "menor_valor = min(numeros)\n",
    "media = soma / len(numeros)\n",
    "pares = sum(1 for num in numeros if num % 2 == 0)\n",
    "\n",
    "print(f\"Somatório: {soma}\")\n",
    "print(f\"Menor valor: {menor_valor}\")\n",
    "print(f\"Média: {media:.1f}\")\n",
    "print(f\"Valores pares: {pares}\")"
   ]
  },
  {
   "cell_type": "code",
   "execution_count": null,
   "id": "7aacad5e-020a-4c2b-8a86-255400fd8f86",
   "metadata": {},
   "outputs": [],
   "source": []
  }
 ],
 "metadata": {
  "kernelspec": {
   "display_name": "Python 3 (ipykernel)",
   "language": "python",
   "name": "python3"
  },
  "language_info": {
   "codemirror_mode": {
    "name": "ipython",
    "version": 3
   },
   "file_extension": ".py",
   "mimetype": "text/x-python",
   "name": "python",
   "nbconvert_exporter": "python",
   "pygments_lexer": "ipython3",
   "version": "3.12.0"
  }
 },
 "nbformat": 4,
 "nbformat_minor": 5
}
