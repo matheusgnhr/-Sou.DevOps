{
 "cells": [
  {
   "cell_type": "markdown",
   "id": "e4f7c83c-ca93-41ac-bf3c-6d4a0c334c7d",
   "metadata": {},
   "source": [
    "# @Sou.DevOps\n",
    "\n",
    "## Exercícios de Algoritmos em Python"
   ]
  },
  {
   "cell_type": "markdown",
   "id": "54166b24-bc84-4d9f-99c9-2b81d3e2f0bf",
   "metadata": {},
   "source": [
    "### PASSO 01 - SEQUÊNCIAS BÁSICAS"
   ]
  },
  {
   "cell_type": "markdown",
   "id": "d2d48b1c-013e-4ed1-a8f7-4536b28e201d",
   "metadata": {},
   "source": [
    "1) Escreva um programa que mostre na tela a mensagem \"Olá, Mundo!\""
   ]
  },
  {
   "cell_type": "code",
   "execution_count": null,
   "id": "edcf2e29-c9b1-43df-9c7b-0667047d1621",
   "metadata": {},
   "outputs": [],
   "source": [
    "print(\"Olá, Mundo!\")"
   ]
  },
  {
   "cell_type": "markdown",
   "id": "b3cade4c-9be7-462a-a8ec-98162b3bb639",
   "metadata": {},
   "source": [
    "2) Faça um programa que leia o nome de uma pessoa e mostre uma mensagem de boasvindas\r\n",
    "para ela:\r\n",
    "Ex:\r\n",
    "Qual é o seu nome? João da Silva\r\n",
    "Olá João da Silva, é um prazer te conhecer!cer!"
   ]
  },
  {
   "cell_type": "code",
   "execution_count": null,
   "id": "d5a564df-25de-4cdd-a270-e61a2e6abc0b",
   "metadata": {},
   "outputs": [],
   "source": [
    "nome = input(\"Qual é o seu nome? \")\n",
    "print(f\"Olá {nome}, é um prazer te conhecer!\")"
   ]
  },
  {
   "cell_type": "markdown",
   "id": "ac2d4b02-daca-4fb9-bb60-f7e39b1cd2fe",
   "metadata": {},
   "source": [
    "3) Crie um programa que leia o nome e o salário de um funcionário, mostrando no\r\n",
    "final uma mensagem.\r\n",
    "Ex:\r\n",
    "Nome do Funcionário: Maria do Carmo\r\n",
    "Salário: 1850,45\r\n",
    "O funcionário Maria do Carmo tem um salário de R$1850,45 em Junho."
   ]
  },
  {
   "cell_type": "code",
   "execution_count": null,
   "id": "b1eeafd4-1e60-49f9-942a-a56d4c2ce522",
   "metadata": {},
   "outputs": [],
   "source": [
    "nome = input(\"Nome do Funcionário: \")\n",
    "salario = float(input(\"Salário: \"))\n",
    "print(f\"O funcionário {nome} tem um salário de R${salario:.2f} em Junho.\")"
   ]
  },
  {
   "cell_type": "markdown",
   "id": "d90c55fa-37fc-4cfe-ac5f-e57fa1e4d971",
   "metadata": {},
   "source": [
    "4) Desenvolva um algoritmo que leia dois números inteiros e mostre o somatório\r\n",
    "entre eles.\r\n",
    "Ex:\r\n",
    "Digite um valor: 8\r\n",
    "Digite outro valor: 5\r\n",
    "A soma entre 8 e 5 é igual a 13."
   ]
  },
  {
   "cell_type": "markdown",
   "id": "c7520506-f90f-4caf-928f-80a4cbdb4a17",
   "metadata": {},
   "source": [
    "num1 = int(input(\"Digite um valor: \"))\n",
    "num2 = int(input(\"Digite outro valor: \"))\n",
    "soma = num1 + num2\n",
    "print(f\"A soma entre {num1} e {num2} é igual a {soma}.\")"
   ]
  },
  {
   "cell_type": "markdown",
   "id": "abf7301a-74b3-422e-9484-38109fd2ba6d",
   "metadata": {},
   "source": [
    "5) Faça um programa que leia as duas notas de um aluno em uma matéria e mostre\r\n",
    "na tela a sua média na disciplina.\r\n",
    "Ex:\r\n",
    "Nota 1: 4.5\r\n",
    "Nota 2: 8.5\r\n",
    "A média entre 4.5 e 8.5 é igual a 6.5"
   ]
  },
  {
   "cell_type": "code",
   "execution_count": null,
   "id": "ac2ba0d4-534b-4f5a-88e6-9c5ea7d06ff3",
   "metadata": {},
   "outputs": [],
   "source": [
    "nota1 = float(input(\"Nota 1: \"))\n",
    "nota2 = float(input(\"Nota 2: \"))\n",
    "media = (nota1 + nota2) / 2\n",
    "print(f\"A média entre {nota1} e {nota2} é igual a {media:.1f}\")"
   ]
  },
  {
   "cell_type": "markdown",
   "id": "b70377f9-c535-470f-94eb-fe301d48ed3a",
   "metadata": {},
   "source": [
    "6) Faça um programa que leia um número inteiro e mostre o seu antecessor e seu\r\n",
    "sucessor.\r\n",
    "Ex:\r\n",
    "Digite um número: 9\r\n",
    "O antecessor de 9 é 8\r\n",
    "O sucessor de 9 é 10"
   ]
  },
  {
   "cell_type": "code",
   "execution_count": null,
   "id": "086135bb-c9cc-49c4-8e16-df106a652913",
   "metadata": {},
   "outputs": [],
   "source": [
    "numero = int(input(\"Digite um número: \"))\n",
    "antecessor = numero - 1\n",
    "sucessor = numero + 1\n",
    "print(f\"O antecessor de {numero} é {antecessor}\\nO sucessor de {numero} é {sucessor}\")"
   ]
  },
  {
   "cell_type": "markdown",
   "id": "3bf81deb-802f-4b2b-b9fa-92e3ceb87fc2",
   "metadata": {},
   "source": [
    "7) Crie um algoritmo que leia um número real e mostre na tela o seu dobro e a\n",
    "sua terça parte.\n",
    "Ex:\n",
    "Digite um número: 3.5\n",
    "O dobro de 3.5 é 7.0\n",
    "A terça parte de 3.5 é 1.16666"
   ]
  },
  {
   "cell_type": "code",
   "execution_count": null,
   "id": "17d8b054-9f4f-4e02-b46c-4366b96e8f58",
   "metadata": {},
   "outputs": [],
   "source": [
    "numero = float(input(\"Digite um número: \"))\n",
    "dobro = numero * 2\n",
    "terca_parte = numero / 3\n",
    "print(f\"O dobro de {numero} é {dobro}\\nA terça parte de {numero} é {terca_parte:.5f}\")"
   ]
  },
  {
   "cell_type": "markdown",
   "id": "a0b9f813-8b1b-4dd3-85d0-81a03ca6ac39",
   "metadata": {},
   "source": [
    "8) Desenvolva um programa que leia uma distância em metros e mostre os valores\n",
    "relativos em outras medidas.\n",
    "Ex:\n",
    "Digite uma distância em metros: 185.72\n",
    "A distância de 85.7m corresponde a:\n",
    "0.18572Km\n",
    "1.8572Hm\n",
    "18.572Dam\n",
    "1857.2dm\n",
    "18572.0cm\n",
    "185720.0mm"
   ]
  },
  {
   "cell_type": "code",
   "execution_count": null,
   "id": "21457b90-c191-44a3-bac3-12cd706f8dad",
   "metadata": {},
   "outputs": [],
   "source": [
    "distancia_m = float(input(\"Digite uma distância em metros: \"))\n",
    "print(f\"A distância de {distancia_m}m corresponde a:\\n{distancia_m/1000}Km\\n{distancia_m/100}Hm\\n{distancia_m/10}Dam\\n{distancia_m*10}dm\\n{distancia_m*100}cm\\n{distancia_m*1000}mm\")"
   ]
  },
  {
   "cell_type": "markdown",
   "id": "19a2fc53-f1ff-4ffd-aeab-1f5f265ecf89",
   "metadata": {},
   "source": [
    "9) Faça um algoritmo que leia quanto dinheiro uma pessoa tem na carteira (em RS)\n",
    "e mostre quantos dólares ela pode comprar. Considere USS 1,00 = RS 3,45."
   ]
  },
  {
   "cell_type": "code",
   "execution_count": null,
   "id": "dd267326-13fd-4f1a-bba8-876236e441cb",
   "metadata": {},
   "outputs": [],
   "source": [
    "reais = float(input(\"Quanto dinheiro você tem na carteira? R$\"))\n",
    "dolares = reais / 3.45\n",
    "print(f\"Com R${reais} você pode comprar US${dolares:.2f}\")"
   ]
  },
  {
   "cell_type": "markdown",
   "id": "98676ffa-1be3-428d-8a8c-6e837d0dce26",
   "metadata": {},
   "source": [
    "10) Faça um algoritmo que leia a largura e altura de uma parede, calcule e\r\n",
    "mostre a área a ser pintada e a quantidade de tinta necessária para o serviço,\r\n",
    "sabendo que cada litro de tinta pinta uma área de 2metros quadrados."
   ]
  },
  {
   "cell_type": "code",
   "execution_count": null,
   "id": "e07443ca-a8b2-404a-b880-1c44f57e57d9",
   "metadata": {},
   "outputs": [],
   "source": [
    "largura = float(input(\"Largura da parede: \"))\n",
    "altura = float(input(\"Altura da parede: \"))\n",
    "area = largura * altura\n",
    "tinta = area / 2\n",
    "print(f\"Sua parede tem a dimensão de {largura}x{altura} e sua área é de {area}m².\\nPara pintar essa parede, você precisará de {tinta}l de tinta.\")"
   ]
  },
  {
   "cell_type": "markdown",
   "id": "b884daee-62d6-4a23-bef2-863082aaa110",
   "metadata": {},
   "source": [
    "11) Desenvolva uma lógica que leia os valores de A, B e C de uma equação do\r\n",
    "segundo grau e mostre o valor de Delta."
   ]
  },
  {
   "cell_type": "code",
   "execution_count": null,
   "id": "9c6c22a7-cedf-41dd-b38e-330b50399687",
   "metadata": {},
   "outputs": [],
   "source": [
    "a = float(input(\"Valor de A: \"))\n",
    "b = float(input(\"Valor de B: \"))\n",
    "c = float(input(\"Valor de C: \"))\n",
    "delta = b**2 - 4*a*c\n",
    "print(f\"O valor de Delta é {delta}\")"
   ]
  },
  {
   "cell_type": "markdown",
   "id": "f1548d3f-ba20-44b1-ab4f-466d26691b2e",
   "metadata": {},
   "source": [
    "12) Crie um programa que leia o preço de um produto, calcule e mostre o seu\r\n",
    "PREÇO PROMOCIONAL, com 5% de desconto."
   ]
  },
  {
   "cell_type": "code",
   "execution_count": null,
   "id": "9b1fb0ad-5f4e-4b10-97f0-c3d1508e8d94",
   "metadata": {},
   "outputs": [],
   "source": [
    "preco = float(input(\"Qual é o preço do produto? R$\"))\n",
    "novo_preco = preco * 0.95\n",
    "print(f\"O produto que custava R${preco}, na promoção com desconto de 5% vai custar R${novo_preco:.2f}\")"
   ]
  },
  {
   "cell_type": "markdown",
   "id": "649a4d21-8932-47a8-9d7c-239dc96fcba0",
   "metadata": {},
   "source": [
    "13) Faça um algoritmo que leia o salário de um funcionário, calcule e mostre o\r\n",
    "seu novo salário, com 15% de aumento."
   ]
  },
  {
   "cell_type": "code",
   "execution_count": null,
   "id": "ac2c3046-b8a5-4d6c-9d54-ea163b6f479c",
   "metadata": {},
   "outputs": [],
   "source": [
    "salario = float(input(\"Qual é o salário do funcionário? R$\"))\n",
    "novo_salario = salario * 1.15\n",
    "print(f\"Um funcionário que ganhava R${salario}, com 15% de aumento, passa a receber R${novo_salario:.2f}\")"
   ]
  },
  {
   "cell_type": "markdown",
   "id": "11e8c401-04a3-437c-9340-1cda8fbe5e4f",
   "metadata": {},
   "source": [
    "14) A locadora de carros precisa da sua ajuda para cobrar seus serviços. Escreva\n",
    "um programa que pergunte a quantidade de Km percorridos por um carro alugado e a\n",
    "quantidade de dias pelos quais ele foi alugado. Calcule o preço total a pagar,\n",
    "sabendo que o carro custa RS90 por dia e RS0,20 por Km rodado."
   ]
  },
  {
   "cell_type": "code",
   "execution_count": null,
   "id": "555bd07c-4a5f-4970-bca1-1b4286f37108",
   "metadata": {},
   "outputs": [],
   "source": [
    "km_percorridos = float(input(\"Quantos Km percorridos? \"))\n",
    "dias_alugados = int(input(\"Quantos dias alugados? \"))\n",
    "preco_total = (dias_alugados * 90) + (km_percorridos * 0.20)\n",
    "print(f\"O total a pagar é de R${preco_total:.2f}\")"
   ]
  },
  {
   "cell_type": "markdown",
   "id": "045a4354-4c50-4339-8e91-9759f460a83d",
   "metadata": {},
   "source": [
    "15) Crie um programa que leia o número de dias trabalhados em um mês e mostre o\n",
    "salário de um funcionário, sabendo que ele trabalha 8 horas por dia e ganha RS25\n",
    "por hora trabalhada."
   ]
  },
  {
   "cell_type": "code",
   "execution_count": null,
   "id": "0b73be07-d723-498f-bbef-c1456fa1af09",
   "metadata": {},
   "outputs": [],
   "source": [
    "dias_trabalhados = int(input(\"Número de dias trabalhados: \"))\n",
    "salario = dias_trabalhados * 8 * 25\n",
    "print(f\"O salário é de R${salario}\")"
   ]
  },
  {
   "cell_type": "markdown",
   "id": "1cb74e36-8172-4fcd-ac24-f756a18f4307",
   "metadata": {},
   "source": [
    "16) [DESAFIO] Escreva um programa para calcular a redução do tempo de vida de um\n",
    "fumante. Pergunte a quantidade de cigarros fumados por dias e quantos anos ele\n",
    "já fumou. Considere que um fumante perde 10 min de vida a cada cigarro. Calcule\n",
    "quantos dias de vida um fumante perderá e exiba o total em dias."
   ]
  },
  {
   "cell_type": "code",
   "execution_count": null,
   "id": "68666bcb-c61d-4bfb-8c50-c49fc1be4b92",
   "metadata": {},
   "outputs": [],
   "source": [
    "cigarros_por_dia = int(input(\"Quantos cigarros você fuma por dia? \"))\n",
    "anos_fumando = int(input(\"Por quantos anos você já fumou? \"))\n",
    "total_cigarros = cigarros_por_dia * anos_fumando * 365\n",
    "dias_perdidos = (total_cigarros * 10) / 1440\n",
    "print(f\"Você perdeu aproximadamente {dias_perdidos:.0f} dias de vida.\")"
   ]
  },
  {
   "cell_type": "code",
   "execution_count": null,
   "id": "2422abe0-fd49-47f5-88ec-dd267f118ba8",
   "metadata": {},
   "outputs": [],
   "source": []
  }
 ],
 "metadata": {
  "kernelspec": {
   "display_name": "Python 3 (ipykernel)",
   "language": "python",
   "name": "python3"
  },
  "language_info": {
   "codemirror_mode": {
    "name": "ipython",
    "version": 3
   },
   "file_extension": ".py",
   "mimetype": "text/x-python",
   "name": "python",
   "nbconvert_exporter": "python",
   "pygments_lexer": "ipython3",
   "version": "3.12.0"
  }
 },
 "nbformat": 4,
 "nbformat_minor": 5
}
