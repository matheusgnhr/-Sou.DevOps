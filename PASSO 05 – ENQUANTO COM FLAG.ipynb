{
 "cells": [
  {
   "cell_type": "markdown",
   "id": "0e4a97ba-3b19-4695-84e3-0659d59879a0",
   "metadata": {},
   "source": [
    "# PASSO 05 – ENQUANTO COM FLAG"
   ]
  },
  {
   "cell_type": "markdown",
   "id": "67f05e8b-6717-400f-a6dc-4168de076f74",
   "metadata": {},
   "source": [
    "56) Crie um programa que leia vários números pelo teclado e mostre no final o\n",
    "somatório entre eles.\n",
    "Obs: O programa será interrompido quando o número 1111 for digitado"
   ]
  },
  {
   "cell_type": "code",
   "execution_count": null,
   "id": "ba9b0b37-71a9-4d03-af29-63b0804464b9",
   "metadata": {},
   "outputs": [],
   "source": [
    "soma = 0\n",
    "while True:\n",
    "    numero = int(input(\"Digite um número (1111 para parar): \"))\n",
    "    if numero == 1111:\n",
    "        break\n",
    "    soma += numero\n",
    "print(f\"Somatório: {soma}\")"
   ]
  },
  {
   "cell_type": "markdown",
   "id": "b4df9068-2491-4d61-bfe3-31b1a489d9e3",
   "metadata": {},
   "source": [
    "57) Desenvolva um aplicativo que leia o salário e o sexo de vários funcionários.\r\n",
    "No final, mostre o total de salários pagos aos homens e o total pago às\r\n",
    "mulheres. O programa vai perguntar ao usuário se ele quer continuar ou não\r\n",
    "sempre que ler os dados de um funcionário."
   ]
  },
  {
   "cell_type": "code",
   "execution_count": null,
   "id": "db329785-e58f-4b80-9206-f66e1cbd91d2",
   "metadata": {},
   "outputs": [],
   "source": [
    "total_salario_homem = total_salario_mulher = 0\n",
    "while True:\n",
    "    salario = float(input(\"Salário do funcionário: R$\"))\n",
    "    sexo = input(\"Sexo do funcionário (M/F): \").upper()\n",
    "\n",
    "    if sexo == 'M':\n",
    "        total_salario_homem += salario\n",
    "    elif sexo == 'F':\n",
    "        total_salario_mulher += salario\n",
    "    \n",
    "    continuar = input(\"Quer continuar? (S/N): \").upper()\n",
    "    if continuar == 'N':\n",
    "        break\n",
    "\n",
    "print(f\"Total salários pagos aos homens: R${total_salario_homem:.2f}\")\n",
    "print(f\"Total salários pagos às mulheres: R${total_salario_mulher:.2f}\")\n"
   ]
  },
  {
   "cell_type": "markdown",
   "id": "85e21a07-f2ea-4d9d-9670-f9fdfd750c12",
   "metadata": {},
   "source": [
    "58) Faça um algoritmo que leia a idade de vários alunos de uma turma. O programa\r\n",
    "vai parar quando for digitada a idade 999. No final, mostre quantos alunos\r\n",
    "existem na turma e qual é a média de idade do grupo."
   ]
  },
  {
   "cell_type": "code",
   "execution_count": null,
   "id": "169a32c6-825d-4b9e-a7d3-593bddf11795",
   "metadata": {},
   "outputs": [],
   "source": [
    "soma_idades = total_alunos = 0\n",
    "while True:\n",
    "    idade = int(input(\"Digite a idade do aluno (999 para parar): \"))\n",
    "    if idade == 999:\n",
    "        break\n",
    "    soma_idades += idade\n",
    "    total_alunos += 1\n",
    "\n",
    "media_idades = soma_idades / total_alunos if total_alunos > 0 else 0\n",
    "print(f\"Total de alunos: {total_alunos}\\nMédia de idade: {media_idades:.1f}\")"
   ]
  },
  {
   "cell_type": "markdown",
   "id": "a44dd2cc-c3ad-4b53-a084-5608b3520a17",
   "metadata": {},
   "source": [
    "59) Crie um programa que leia o sexo e a idade de várias pessoas. O programa vai\r\n",
    "perguntar se o usuário quer continuar ou não a cada pessoa. No final, mostre:\r\n",
    "a) qual é a maior idade lida\r\n",
    "b) quantos homens foram cadastrados\r\n",
    "c) qual é a idade da mulher mais jovem\r\n",
    "d) qual é a média de idade entre os homens"
   ]
  },
  {
   "cell_type": "code",
   "execution_count": null,
   "id": "980fb6c0-074a-43c6-a759-458ec9d35243",
   "metadata": {},
   "outputs": [],
   "source": [
    "maior_idade = total_homens = idade_mulher_jovem = total_idade_homem = 0\n",
    "mulher_jovem = True\n",
    "\n",
    "while True:\n",
    "    sexo = input(\"Sexo da pessoa (M/F): \").upper()\n",
    "    idade = int(input(\"Idade da pessoa: \"))\n",
    "\n",
    "    if idade > maior_idade:\n",
    "        maior_idade = idade\n",
    "    if sexo == 'M':\n",
    "        total_homens += 1\n",
    "        total_idade_homem += idade\n",
    "    if sexo == 'F' and (idade < idade_mulher_jovem or mulher_jovem):\n",
    "        idade_mulher_jovem = idade\n",
    "        mulher_jovem = False\n",
    "\n",
    "    continuar = input(\"Quer continuar? (S/N): \").upper()\n",
    "    if continuar == 'N':\n",
    "        break\n",
    "\n",
    "media_idade_homem = total_idade_homem / total_homens if total_homens > 0 else 0\n",
    "print(f\"Maior idade lida: {maior_idade}\\nHomens cadastrados: {total_homens}\\nIdade da mulher mais jovem: {idade_mulher_jovem}\\nMédia de idade dos homens: {media_idade_homem:.1f}\")"
   ]
  },
  {
   "cell_type": "markdown",
   "id": "f029ce22-f2c8-4785-a0a0-03669ffb4dec",
   "metadata": {},
   "source": [
    "60) Desenvolva um algoritmo que leia o nome, a idade e o sexo de várias pessoas.\r\n",
    "O programa vai perguntar se o usuário quer ou não continuar. No final, mostre:\r\n",
    "a) O nome da pessoa mais velha\r\n",
    "b) O nome da mulher mais jovem\r\n",
    "c) A média de idade do grupo\r\n",
    "d) Quantos homens tem mais de 30 anos\r\n",
    "e) Quantas mulheres tem menos de 18 anos"
   ]
  },
  {
   "cell_type": "code",
   "execution_count": null,
   "id": "80913e62-f894-49f0-8c4e-15ebeac9940a",
   "metadata": {},
   "outputs": [],
   "source": [
    "total_idade = total_homens_mais_30 = total_mulheres_menos_18 = 0\n",
    "nome_mais_velho = nome_mulher_jovem = ''\n",
    "idade_mais_velho = idade_mulher_jovem = -1\n",
    "mulher_jovem = True\n",
    "contador_pessoas = 0\n",
    "\n",
    "while True:\n",
    "    nome = input(\"Nome da pessoa: \")\n",
    "    idade = int(input(\"Idade: \"))\n",
    "    sexo = input(\"Sexo da pessoa (M/F): \").upper()\n",
    "\n",
    "    total_idade += idade\n",
    "    contador_pessoas += 1\n",
    "\n",
    "    if idade > idade_mais_velho:\n",
    "        idade_mais_velho = idade\n",
    "        nome_mais_velho = nome\n",
    "\n",
    "    if sexo == 'M' and idade > 30:\n",
    "        total_homens_mais_30 += 1\n",
    "\n",
    "    if sexo == 'F':\n",
    "        if mulher_jovem or idade < idade_mulher_jovem:\n",
    "            idade_mulher_jovem = idade\n",
    "            nome_mulher_jovem = nome\n",
    "            mulher_jovem = False\n",
    "        if idade < 18:\n",
    "            total_mulheres_menos_18 += 1\n",
    "\n",
    "    continuar = input(\"Quer continuar? (S/N): \").upper()\n",
    "    if continuar == 'N':\n",
    "        break\n",
    "\n",
    "media_idade = total_idade / contador_pessoas if contador_pessoas > 0 else 0\n",
    "\n",
    "print(f\"a) Pessoa mais velha: {nome_mais_velho}\")\n",
    "print(f\"b) Mulher mais jovem: {nome_mulher_jovem}\")\n",
    "print(f\"c) Média de idade do grupo: {media_idade:.1f}\")\n",
    "print(f\"d) Homens com mais de 30 anos: {total_homens_mais_30}\")\n",
    "print(f\"e) Mulheres com menos de 18 anos: {total_mulheres_menos_18}\")"
   ]
  },
  {
   "cell_type": "code",
   "execution_count": null,
   "id": "ee4844b8-fa2e-48b3-9142-89c1fe57b966",
   "metadata": {},
   "outputs": [],
   "source": []
  }
 ],
 "metadata": {
  "kernelspec": {
   "display_name": "Python 3 (ipykernel)",
   "language": "python",
   "name": "python3"
  },
  "language_info": {
   "codemirror_mode": {
    "name": "ipython",
    "version": 3
   },
   "file_extension": ".py",
   "mimetype": "text/x-python",
   "name": "python",
   "nbconvert_exporter": "python",
   "pygments_lexer": "ipython3",
   "version": "3.12.0"
  }
 },
 "nbformat": 4,
 "nbformat_minor": 5
}
