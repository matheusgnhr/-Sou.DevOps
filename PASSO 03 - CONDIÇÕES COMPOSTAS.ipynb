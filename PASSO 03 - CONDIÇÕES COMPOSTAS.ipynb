{
 "cells": [
  {
   "cell_type": "markdown",
   "id": "993f18fb-c75c-4ddc-b8fe-18121ff3acfc",
   "metadata": {},
   "source": [
    "# PASSO 03 - CONDIÇÕES COMPOSTAS"
   ]
  },
  {
   "cell_type": "markdown",
   "id": "74d0ad28-d15d-4e10-8106-7f9253eda6f7",
   "metadata": {},
   "source": [
    "26) Escreva um algoritmo que leia dois números inteiros e compare-os, mostrando\n",
    "na tela uma das mensagens abaixo:\n",
    "- O primeiro valor é o maior\n",
    "- O segundo valor é o maior\n",
    "- Não existe valor maior, os dois são iguais"
   ]
  },
  {
   "cell_type": "code",
   "execution_count": 1,
   "id": "6c2b10b5-a4a1-42bc-92dc-2d5fad017472",
   "metadata": {},
   "outputs": [
    {
     "name": "stdin",
     "output_type": "stream",
     "text": [
      "Digite o primeiro número:  1\n",
      "Digite o segundo número:  2\n"
     ]
    },
    {
     "name": "stdout",
     "output_type": "stream",
     "text": [
      "O segundo valor é o maior\n"
     ]
    }
   ],
   "source": [
    "num1 = int(input(\"Digite o primeiro número: \"))\n",
    "num2 = int(input(\"Digite o segundo número: \"))\n",
    "\n",
    "if num1 > num2:\n",
    "    print(\"O primeiro valor é o maior\")\n",
    "elif num2 > num1:\n",
    "    print(\"O segundo valor é o maior\")\n",
    "else:\n",
    "    print(\"Não existe valor maior, os dois são iguais\")\n"
   ]
  },
  {
   "cell_type": "markdown",
   "id": "1af2e334-08c4-4894-9a03-df187645d9f9",
   "metadata": {},
   "source": [
    "27) Crie um programa que leia duas notas de um aluno e calcule a sua média,\n",
    "mostrando uma mensagem no final, de acordo com a média atingida:\n",
    "- Média até 4.9: REPROVADO\n",
    "- Média entre 5.0 e 6.9: RECUPERAÇÃO\n",
    "- Média 7.0 ou superior: APROVADO"
   ]
  },
  {
   "cell_type": "code",
   "execution_count": 2,
   "id": "ff55c972-d859-4db7-87c7-6498c2196272",
   "metadata": {},
   "outputs": [
    {
     "name": "stdin",
     "output_type": "stream",
     "text": [
      "Primeira nota:  10\n",
      "Segunda nota:  3\n"
     ]
    },
    {
     "name": "stdout",
     "output_type": "stream",
     "text": [
      "RECUPERAÇÃO\n"
     ]
    }
   ],
   "source": [
    "nota1 = float(input(\"Primeira nota: \"))\n",
    "nota2 = float(input(\"Segunda nota: \"))\n",
    "media = (nota1 + nota2) / 2\n",
    "\n",
    "if media <= 4.9:\n",
    "    print(\"REPROVADO\")\n",
    "elif 5.0 <= media <= 6.9:\n",
    "    print(\"RECUPERAÇÃO\")\n",
    "else:\n",
    "    print(\"APROVADO\")\n"
   ]
  },
  {
   "cell_type": "markdown",
   "id": "3898fa73-f8e1-4cf7-be8d-c4ed67586ae7",
   "metadata": {},
   "source": [
    "28) Faça um programa que leia a largura e o comprimento de um terreno\n",
    "retangular, calculando e mostrando a sua área em m². O programa também\n",
    "devemostrar a classificação desse terreno, de acordo com a lista abaixo:\n",
    "- Abaixo de 100m² = TERRENO POPULAR\n",
    "- Entre 100m² e 500m² = TERRENO MASTER\n",
    "- Acima de 500m² = TERRENO VIP"
   ]
  },
  {
   "cell_type": "code",
   "execution_count": 3,
   "id": "5fb17e88-3e84-4882-b75f-2ce7b575233b",
   "metadata": {},
   "outputs": [
    {
     "name": "stdin",
     "output_type": "stream",
     "text": [
      "Largura do terreno:  100\n",
      "Comprimento do terreno:  50\n"
     ]
    },
    {
     "name": "stdout",
     "output_type": "stream",
     "text": [
      "TERRENO VIP\n"
     ]
    }
   ],
   "source": [
    "largura = float(input(\"Largura do terreno: \"))\n",
    "comprimento = float(input(\"Comprimento do terreno: \"))\n",
    "area = largura * comprimento\n",
    "\n",
    "if area < 100:\n",
    "    print(\"TERRENO POPULAR\")\n",
    "elif 100 <= area <= 500:\n",
    "    print(\"TERRENO MASTER\")\n",
    "else:\n",
    "    print(\"TERRENO VIP\")\n"
   ]
  },
  {
   "cell_type": "markdown",
   "id": "12119924-f680-411e-bf3b-1d2fb55ef802",
   "metadata": {},
   "source": [
    "29) Desenvolva um programa que leia o nome de um funcionário, seu salário,\n",
    "quantos anos ele trabalha na empresa e mostre seu novo salário, reajustado de\n",
    "acordo com a tabela a seguir:\n",
    "- Até 3 anos de empresa: aumento de 3%\n",
    "- entre 3 e 10 anos: aumento de 12.5%\n",
    "- 10 anos ou mais: aumento de 20%"
   ]
  },
  {
   "cell_type": "code",
   "execution_count": 4,
   "id": "2c3c98b6-ca54-4ea7-a334-a960f64dee64",
   "metadata": {},
   "outputs": [
    {
     "name": "stdin",
     "output_type": "stream",
     "text": [
      "Nome do funcionário:  Matheus\n",
      "Salário atual:  1400\n",
      "Anos de empresa:  3\n"
     ]
    },
    {
     "name": "stdout",
     "output_type": "stream",
     "text": [
      "Novo salário: R$1575.00\n"
     ]
    }
   ],
   "source": [
    "nome = input(\"Nome do funcionário: \")\n",
    "salario = float(input(\"Salário atual: \"))\n",
    "tempo_empresa = int(input(\"Anos de empresa: \"))\n",
    "\n",
    "if tempo_empresa < 3:\n",
    "    aumento = 0.03\n",
    "elif 3 <= tempo_empresa < 10:\n",
    "    aumento = 0.125\n",
    "else:\n",
    "    aumento = 0.20\n",
    "\n",
    "novo_salario = salario * (1 + aumento)\n",
    "print(f\"Novo salário: R${novo_salario:.2f}\")\n"
   ]
  },
  {
   "cell_type": "markdown",
   "id": "5b8f55b0-500d-4dc8-876e-c0af81ba5ccf",
   "metadata": {},
   "source": [
    "30) [DESAFIO] Refaça o algoritmo 25, acrescentando o recurso de mostrar que tipo\n",
    "de triângulo será formado:\n",
    "- EQUILÁTERO: todos os lados iguais\n",
    "- ISÓSCELES: dois lados iguais\n",
    "- ESCALENO: todos os lados diferentes"
   ]
  },
  {
   "cell_type": "code",
   "execution_count": 5,
   "id": "6859e7fd-0f44-4212-bcc2-ca068a41d42c",
   "metadata": {},
   "outputs": [
    {
     "name": "stdin",
     "output_type": "stream",
     "text": [
      "Lado 1:  10\n",
      "Lado 2:  4\n",
      "Lado 3:  9\n"
     ]
    },
    {
     "name": "stdout",
     "output_type": "stream",
     "text": [
      "ESCALENO\n"
     ]
    }
   ],
   "source": [
    "lado1 = float(input(\"Lado 1: \"))\n",
    "lado2 = float(input(\"Lado 2: \"))\n",
    "lado3 = float(input(\"Lado 3: \"))\n",
    "\n",
    "if lado1 == lado2 == lado3:\n",
    "    print(\"EQUILÁTERO\")\n",
    "elif lado1 != lado2 != lado3 != lado1:\n",
    "    print(\"ESCALENO\")\n",
    "else:\n",
    "    print(\"ISÓSCELES\")\n"
   ]
  },
  {
   "cell_type": "markdown",
   "id": "ed2f0b4f-37c3-4cb3-803d-3566bf03aeeb",
   "metadata": {},
   "source": [
    "31) [DESAFIO] Crie um jogo de JoKenPo (Pedra-Papel-Tesoura)"
   ]
  },
  {
   "cell_type": "code",
   "execution_count": 15,
   "id": "10ac2217-ad21-46c1-a1da-989f2abbece9",
   "metadata": {},
   "outputs": [
    {
     "name": "stdin",
     "output_type": "stream",
     "text": [
      "Escolha Pedra, Papel ou Tesoura:  Papel\n"
     ]
    },
    {
     "name": "stdout",
     "output_type": "stream",
     "text": [
      "Computador escolheu: Pedra\n",
      "Você ganhou!\n"
     ]
    }
   ],
   "source": [
    "import random\n",
    "\n",
    "opcoes = [\"Pedra\", \"Papel\", \"Tesoura\"]\n",
    "escolha_usuario = input(\"Escolha Pedra, Papel ou Tesoura: \")\n",
    "\n",
    "# Verifica se a escolha do usuário é válida\n",
    "if escolha_usuario not in opcoes:\n",
    "    print(\"Escolha inválida!\")\n",
    "else:\n",
    "    escolha_computador = random.choice(opcoes)\n",
    "    print(f\"Computador escolheu: {escolha_computador}\")\n",
    "\n",
    "    if escolha_usuario == escolha_computador:\n",
    "        print(\"Empate!\")\n",
    "    elif (escolha_usuario == \"Pedra\" and escolha_computador == \"Tesoura\") or \\\n",
    "         (escolha_usuario == \"Papel\" and escolha_computador == \"Pedra\") or \\\n",
    "         (escolha_usuario == \"Tesoura\" and escolha_computador == \"Papel\"):\n",
    "        print(\"Você ganhou!\")\n",
    "    else:\n",
    "        print(\"Você perdeu!\")\n"
   ]
  },
  {
   "cell_type": "markdown",
   "id": "a76a3fde-6ec2-4f7d-a0d7-bf3a40bb907b",
   "metadata": {},
   "source": [
    "32) [DESAFIO] Crie um jogo onde o computador vai sortear um número entre 1 e 5 o\n",
    "jogador vai tentar descobrir qual foi o valor sorteado."
   ]
  },
  {
   "cell_type": "code",
   "execution_count": 1,
   "id": "0080b51a-56f9-4bef-b524-2b6991efb80d",
   "metadata": {},
   "outputs": [
    {
     "name": "stdin",
     "output_type": "stream",
     "text": [
      "Adivinhe o número entre 1 e 5:  5\n"
     ]
    },
    {
     "name": "stdout",
     "output_type": "stream",
     "text": [
      "Errou! O número era 4.\n"
     ]
    }
   ],
   "source": [
    "import random\n",
    "\n",
    "numero_sorteado = random.randint(1, 5)\n",
    "palpite = int(input(\"Adivinhe o número entre 1 e 5: \"))\n",
    "\n",
    "if palpite == numero_sorteado:\n",
    "    print(\"Parabéns! Você acertou.\")\n",
    "else:\n",
    "    print(f\"Errou! O número era {numero_sorteado}.\")\n"
   ]
  },
  {
   "cell_type": "markdown",
   "id": "91c7ac25-7da1-4ca5-bc73-4736f6c1acd2",
   "metadata": {},
   "source": [
    "33) Escreva um programa para aprovar ou não o empréstimo bancário para a compra\n",
    "de uma casa. O programa vai perguntar o valor da casa, o salário do comprador e\n",
    "em quantos anos ele vai pagar. Calcule o valor da prestação mensal, sabendo que\n",
    "ela não pode exceder 30% do salário ou então o empréstimo será negado."
   ]
  },
  {
   "cell_type": "code",
   "execution_count": 2,
   "id": "4145dd18-e0fa-4e2f-a58b-0e43a4b51e74",
   "metadata": {},
   "outputs": [
    {
     "name": "stdin",
     "output_type": "stream",
     "text": [
      "Valor da casa: R$ 100000\n",
      "Salário do comprador: R$ 100\n",
      "Quantos anos de financiamento?  10\n"
     ]
    },
    {
     "name": "stdout",
     "output_type": "stream",
     "text": [
      "Empréstimo negado.\n"
     ]
    }
   ],
   "source": [
    "valor_casa = float(input(\"Valor da casa: R$\"))\n",
    "salario = float(input(\"Salário do comprador: R$\"))\n",
    "anos = int(input(\"Quantos anos de financiamento? \"))\n",
    "\n",
    "prestacao_mensal = valor_casa / (anos * 12)\n",
    "\n",
    "if prestacao_mensal > salario * 0.30:\n",
    "    print(\"Empréstimo negado.\")\n",
    "else:\n",
    "    print(\"Empréstimo aprovado.\")\n"
   ]
  },
  {
   "cell_type": "markdown",
   "id": "318b4857-40ff-4dcc-974a-45b87feae601",
   "metadata": {},
   "source": [
    "34) O Índice de Massa Corpórea (IMC) é um valor calculado baseado na altura e no\n",
    "peso de uma pessoa. De acordo com o valor do IMC, podemos classificar o\n",
    "indivíduo dentro de certas faixas.\n",
    "- abaixo de 18.5: Abaixo do peso\n",
    "- entre 18.5 e 25: Peso ideal\n",
    "- entre 25 e 30: Sobrepeso\n",
    "- entre 30 e 40: Obesidade\n",
    "- acima de 40: Obseidade mórbida\n",
    "Obs: O IMC é calculado pela expressão peso/altura² (peso dividido pelo quadrado\n",
    "da altura)"
   ]
  },
  {
   "cell_type": "code",
   "execution_count": 4,
   "id": "9f0574ef-6423-4411-a8ce-73f51b3cca6b",
   "metadata": {},
   "outputs": [
    {
     "name": "stdin",
     "output_type": "stream",
     "text": [
      "Peso (kg):  100\n",
      "Altura (m):  1\n"
     ]
    },
    {
     "name": "stdout",
     "output_type": "stream",
     "text": [
      "Obesidade mórbida\n"
     ]
    }
   ],
   "source": [
    "peso = float(input(\"Peso (kg): \"))\n",
    "altura = float(input(\"Altura (m): \"))\n",
    "imc = peso / (altura ** 2)\n",
    "\n",
    "if imc < 18.5:\n",
    "    print(\"Abaixo do peso\")\n",
    "elif 18.5 <= imc < 25:\n",
    "    print(\"Peso ideal\")\n",
    "elif 25 <= imc < 30:\n",
    "    print(\"Sobrepeso\")\n",
    "elif 30 <= imc < 40:\n",
    "    print(\"Obesidade\")\n",
    "else:\n",
    "    print(\"Obesidade mórbida\")\n"
   ]
  },
  {
   "cell_type": "markdown",
   "id": "7545fdd7-0689-4ef9-b4f0-f402c28e9826",
   "metadata": {},
   "source": [
    "35) Uma empresa de aluguel de carros precisa cobrar pelos seus serviços. O\n",
    "aluguel de um carro custa RS90 por dia para carro popular e RS150 por dia para\n",
    "carro de luxo. Além disso, o cliente paga por Km percorrido. Faça um programa\n",
    "que leia o tipo de carro alugado (popular ou luxo), quantos dias de aluguel e\n",
    "quantos Km foram percorridos. No final mostre o preço a ser pago de acordo com a\n",
    "tabela a seguir:\n",
    "- Carros populares (aluguel de RS90 por dia)\n",
    "- Até 100Km percorridos: RS0,20 por Km\n",
    "- Acima de 100Km percorridos: RS0,10 por Km\n",
    "- Carros de luxo (aluguel de RS150 por dia)\n",
    "- Até 200Km percorridos: RS0,30 por Km\n",
    "- Acima de 200Km percorridos: RS0,25 por Km"
   ]
  },
  {
   "cell_type": "code",
   "execution_count": 6,
   "id": "d9dbd0a0-d669-4c8b-bf8d-c73fc1143cba",
   "metadata": {},
   "outputs": [
    {
     "name": "stdin",
     "output_type": "stream",
     "text": [
      "Tipo de carro alugado (popular/luxo):  popular\n",
      "Quantos dias de aluguel?  10\n",
      "Quantos Km foram percorridos?  100\n"
     ]
    },
    {
     "name": "stdout",
     "output_type": "stream",
     "text": [
      "Preço total a ser pago: R$920.00\n"
     ]
    }
   ],
   "source": [
    "tipo_carro = input(\"Tipo de carro alugado (popular/luxo): \").lower()\n",
    "dias_aluguel = int(input(\"Quantos dias de aluguel? \"))\n",
    "km_percorridos = float(input(\"Quantos Km foram percorridos? \"))\n",
    "\n",
    "if tipo_carro == \"popular\":\n",
    "    preco_dia = 90\n",
    "    preco_km = 0.20 if km_percorridos <= 100 else 0.10\n",
    "else:  # tipo_carro == \"luxo\"\n",
    "    preco_dia = 150\n",
    "    preco_km = 0.30 if km_percorridos <= 200 else 0.25\n",
    "\n",
    "custo_total = (dias_aluguel * preco_dia) + (km_percorridos * preco_km)\n",
    "print(f\"Preço total a ser pago: R${custo_total:.2f}\")\n"
   ]
  },
  {
   "cell_type": "markdown",
   "id": "27eb3884-c74a-403e-a444-dc785f99d1d0",
   "metadata": {},
   "source": [
    "36) Um programa de vida saudável quer dar pontos atividades físicas que podem\r\n",
    "ser trocados por dinheiro. O sistema funciona assim:\r\n",
    "- Cada hora de atividade física no mês vale pontos\r\n",
    "- até 10h de atividade no mês: ganha 2 pontos por hora\r\n",
    "- de 10h até 20h de atividade no mês: ganha 5 pontos por hora\r\n",
    "- acima de 20h de atividade no mês: ganha 10 pontos por hora\r\n",
    "- A cada ponto ganho, o cliente faSura R$0,05 (5 cen\n",
    "\n",
    "Faça um programa que leia quantas horas de atividade uma pessoa teve por mês,\r\n",
    "calcule e mostre quantos pontos ela teve e quanto dinheiro ela conseguiu ganhar.tavos)"
   ]
  },
  {
   "cell_type": "code",
   "execution_count": 10,
   "id": "7e45de05-3886-4637-8689-afec046f027e",
   "metadata": {},
   "outputs": [
    {
     "name": "stdin",
     "output_type": "stream",
     "text": [
      "Horas de atividade no mês:  500\n"
     ]
    },
    {
     "name": "stdout",
     "output_type": "stream",
     "text": [
      "Total de pontos ganhos: 5000\n",
      "Dinheiro ganho: R$250.00\n"
     ]
    }
   ],
   "source": [
    "horas_atividade = int(input(\"Horas de atividade no mês: \"))\n",
    "\n",
    "if horas_atividade <= 10:\n",
    "    pontos = horas_atividade * 2\n",
    "elif 10 < horas_atividade <= 20:\n",
    "    pontos = horas_atividade * 5\n",
    "else:  # horas_atividade > 20\n",
    "    pontos = horas_atividade * 10\n",
    "\n",
    "dinheiro_ganho = pontos * 0.05\n",
    "print(f\"Total de pontos ganhos: {pontos}\\nDinheiro ganho: R${dinheiro_ganho:.2f}\")"
   ]
  },
  {
   "cell_type": "markdown",
   "id": "98d57e73-cf14-44fa-9114-da8be542b4c7",
   "metadata": {},
   "source": [
    "37) Uma empresa precisa reajustar o salário dos seus funcionários, dando um\r\n",
    "aumento de acordo com alguns fatores. Faça um programa que leia o salário atual,\r\n",
    "o gênero do funcionário e há quantos anos esse funcionário trabalha na empresa.\r\n",
    "No final, mostre o seu novo salário, baseado na tabela a seguir:\r\n",
    "- Mulheres\r\n",
    "- menos de 15 anos de empresa: +5%\r\n",
    "- de 15 até 20 anos de empresa: +12%\r\n",
    "- mais de 20 anos de empresa: +23%\r\n",
    "- Homens\r\n",
    "- menos de 20 anos de empresa: +3%\r\n",
    "- de 20 até 30 anos de empresa: +13%\r\n",
    "- mais de 30 anos de25% empresa: +"
   ]
  },
  {
   "cell_type": "code",
   "execution_count": 17,
   "id": "620ab6ca-1397-418c-a38c-67e0072cfb78",
   "metadata": {},
   "outputs": [
    {
     "name": "stdin",
     "output_type": "stream",
     "text": [
      "Salário atual: R$ 1000\n",
      "Gênero do funcionário (M/F):  M\n",
      "Anos trabalhando na empresa:  210\n"
     ]
    },
    {
     "name": "stdout",
     "output_type": "stream",
     "text": [
      "O novo salário é R$1250.00\n"
     ]
    }
   ],
   "source": [
    "salario_atual = float(input(\"Salário atual: R$\"))\n",
    "genero = input(\"Gênero do funcionário (M/F): \").upper()\n",
    "anos_empresa = int(input(\"Anos trabalhando na empresa: \"))\n",
    "\n",
    "if genero == \"F\":\n",
    "    if anos_empresa < 15:\n",
    "        aumento = 0.05\n",
    "    elif 15 <= anos_empresa <= 20:\n",
    "        aumento = 0.12\n",
    "    else:  # anos_empresa > 20\n",
    "        aumento = 0.23\n",
    "else:  # Caso o gênero não seja \"F\", assumindo \"M\"\n",
    "    if anos_empresa < 20:\n",
    "        aumento = 0.03\n",
    "    elif 20 <= anos_empresa <= 30:\n",
    "        aumento = 0.13\n",
    "    else:  # anos_empresa > 30\n",
    "        aumento = 0.25\n",
    "\n",
    "novo_salario = salario_atual * (1 + aumento)\n",
    "print(f\"O novo salário é R${novo_salario:.2f}\")\n"
   ]
  },
  {
   "cell_type": "code",
   "execution_count": null,
   "id": "3ebdbd6d-6f7a-4164-ba90-403038291e09",
   "metadata": {},
   "outputs": [],
   "source": []
  }
 ],
 "metadata": {
  "kernelspec": {
   "display_name": "Python 3 (ipykernel)",
   "language": "python",
   "name": "python3"
  },
  "language_info": {
   "codemirror_mode": {
    "name": "ipython",
    "version": 3
   },
   "file_extension": ".py",
   "mimetype": "text/x-python",
   "name": "python",
   "nbconvert_exporter": "python",
   "pygments_lexer": "ipython3",
   "version": "3.12.0"
  }
 },
 "nbformat": 4,
 "nbformat_minor": 5
}
