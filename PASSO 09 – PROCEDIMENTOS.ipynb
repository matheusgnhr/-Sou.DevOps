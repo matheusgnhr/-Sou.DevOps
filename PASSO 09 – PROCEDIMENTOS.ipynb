{
 "cells": [
  {
   "cell_type": "markdown",
   "id": "fce75eb2-df6b-43f8-8854-34e8d79ca4f5",
   "metadata": {},
   "source": [
    "# PASSO 09 – PROCEDIMENTOS"
   ]
  },
  {
   "cell_type": "markdown",
   "id": "11d36d0d-a1ea-4fae-ac46-95ee28f290b6",
   "metadata": {},
   "source": [
    "##### Para resolver esses exercícios, vamos criar funções em Python, que são equivalentes aos procedimentos em outras linguagens de programação."
   ]
  },
  {
   "cell_type": "markdown",
   "id": "d92e270e-fe7a-42ce-9635-134267f4f25a",
   "metadata": {},
   "source": [
    "##### Procedimento -> não retorna um valor\n",
    "##### Função -> retorna um valor"
   ]
  },
  {
   "cell_type": "markdown",
   "id": "5b0f39ce-c5e0-4be6-9f9a-11e278640163",
   "metadata": {},
   "source": [
    "Em programação, os termos \"procedimento\" e \"função\" são frequentemente usados para descrever tipos específicos de sub-rotinas, embora o uso exato possa variar entre diferentes linguagens de programação. Aqui está uma explicação geral de cada um:\r\n",
    "\r\n",
    "### Procedimento\r\n",
    "1. **Definição**: Um procedimento é um tipo de sub-rotina que executa uma tarefa específica, mas não retorna um valor diretamente. Em algumas linguagens, os procedimentos são conhecidos como \"sub-rotinas\" ou \"métodos void\".\r\n",
    "   \r\n",
    "2. **Características**:\r\n",
    "   - Realiza uma ação, como imprimir algo na tela, modificar um arquivo, etc.\r\n",
    "   - Não retorna um valor (ou, em algumas linguagens, retorna um valor `void` ou `null`).\r\n",
    "   - Pode modificar o estado do programa ou afetar variáveis globais.\r\n",
    "\r\n",
    "3. **Exemplo**: Um procedimento em uma linguagem como Pascal, C ou Python (funções sem retorno explícito) pode ser usado para exibir mensagens ou alterar valores de variáveis globais.\r\n",
    "\r\n",
    "### Função\r\n",
    "1. **Definição**: Uma função é um tipo de sub-rotina que executa uma tarefa e retorna um valor. Funções são usadas para realizar cálculos, processar dados e retornar os resultados.\r\n",
    "\r\n",
    "2. **Características**:\r\n",
    "   - Realiza uma ação e retorna um valor.\r\n",
    "   - Frequentemente usada para calcular um resultado que é então usado em outra parte do programa.\r\n",
    "   - Pode ou não ter efeitos colaterais (modificar o estado do programa), mas seu principal objetivo é retornar um valor.\r\n",
    "\r\n",
    "3. **Exemplo**: Em linguagens como Python, Java, C e muitas outras, as funções são usadas para calcular valores, como a soma de uma lista de números, e retornar o resultado.\r\n",
    "\r\n",
    "### Diferenças Chave\r\n",
    "- **Retorno**: A diferença principal entre um procedimento e uma função é que um procedimento não retorna um valor, enquanto uma função sim.\r\n",
    "- **Uso**: Procedimentos são frequentemente usados quando é necessário realizar uma ação (como interações com o usuário ou modificações em arquivos), e funções são usadas quando um cálculo que retorna um valor é necessário.\r\n",
    "\r\n",
    "### Em Resumo\r\n",
    "Em algumas linguagens de programação modernas, como Python, a distinção entre procedimento e função não é estritamente aplicada. Em Python, por exemplo, todas as sub-rotinas são definidas usando a palavra-chave `def` e são chamadas de funções, independentemente de retornarem um valor ou não. Em outras linguagens, a distinção pode ser mais explícita."
   ]
  },
  {
   "cell_type": "markdown",
   "id": "70e7730f-d61d-4241-ba24-050515dcabf8",
   "metadata": {},
   "source": [
    "86) Crie um programa que tenha um procedimento Gerador() que, quando chamado,\r\n",
    "mostre a mensagem \"Olá, Mundo!\" com algum componente visual (linhas)\r\n",
    "Ex: Ao chamar Gerador() aparece:\r\n",
    "+-------=======------+\r\n",
    "Olá, Mundo!\r\n",
    "+-------=======------+"
   ]
  },
  {
   "cell_type": "code",
   "execution_count": 1,
   "id": "db2c10c4-1ff7-451c-a83e-a5037f6b8b34",
   "metadata": {},
   "outputs": [
    {
     "name": "stdout",
     "output_type": "stream",
     "text": [
      "+-------=======------+\n",
      "Olá, Mundo!\n",
      "+-------=======------+\n"
     ]
    }
   ],
   "source": [
    "def Gerador():\n",
    "    print(\"+-------=======------+\")\n",
    "    print(\"Olá, Mundo!\")\n",
    "    print(\"+-------=======------+\")\n",
    "\n",
    "Gerador()"
   ]
  },
  {
   "cell_type": "markdown",
   "id": "2e088159-52db-4553-9cc0-37ec7b226da9",
   "metadata": {},
   "source": [
    "87) Crie um programa que melhore o procedimento Gerador() da questão anterior\r\n",
    "para que mostre uma mensagem personalizada, passada como parâmetro.\r\n",
    "Ex: Ao chamar Gerador(\"Aprendendoythonol\") aparece:\r\n",
    "+-------=======------+\r\n",
    "Aprendenythonugol\r\n",
    "+-------=======------+"
   ]
  },
  {
   "cell_type": "code",
   "execution_count": 2,
   "id": "fcdeb35d-0a94-41e9-a59d-f664cf0a0b1d",
   "metadata": {},
   "outputs": [
    {
     "name": "stdout",
     "output_type": "stream",
     "text": [
      "+-------=======------+\n",
      "Aprendendo Python\n",
      "+-------=======------+\n"
     ]
    }
   ],
   "source": [
    "def Gerador(mensagem):\n",
    "    print(\"+-------=======------+\")\n",
    "    print(mensagem)\n",
    "    print(\"+-------=======------+\")\n",
    "\n",
    "Gerador(\"Aprendendo Python\")"
   ]
  },
  {
   "cell_type": "markdown",
   "id": "3c8e596e-28d2-43c6-8caf-4c85299a8743",
   "metadata": {},
   "source": [
    "88) Crie um programa que melhore o procedimento Gerador() da questão anterior\n",
    "para que mostre uma mensagem vário\n",
    "Ex: Ao chamar Gerador(\"Aprendendo Python\", 4) aparece:\n",
    "+-------=======------+\n",
    "Aprendendo Python\n",
    "Aprendendo Python\n",
    "Aprendendo Python\n",
    "Aprendendo Python\n",
    "+-------=======------+"
   ]
  },
  {
   "cell_type": "code",
   "execution_count": 3,
   "id": "cea772e7-bc60-43aa-83ef-9db83c39d0ae",
   "metadata": {},
   "outputs": [
    {
     "name": "stdout",
     "output_type": "stream",
     "text": [
      "+-------=======------+\n",
      "Aprendendo Python\n",
      "Aprendendo Python\n",
      "Aprendendo Python\n",
      "Aprendendo Python\n",
      "+-------=======------+\n"
     ]
    }
   ],
   "source": [
    "def Gerador(mensagem, repeticoes):\n",
    "    print(\"+-------=======------+\")\n",
    "    for _ in range(repeticoes):\n",
    "        print(mensagem)\n",
    "    print(\"+-------=======------+\")\n",
    "\n",
    "Gerador(\"Aprendendo Python\", 4)"
   ]
  },
  {
   "cell_type": "markdown",
   "id": "d088eb37-d583-401f-898d-127e6ada8035",
   "metadata": {},
   "source": [
    "89) Crie um programa que melhore o procedimento Gerador() da questão anterior\n",
    "para que o programador possa escolher uma entre três bordas:\n",
    "+-------=======------+ Borda 1\n",
    "~~~~~~~~:::::::~~~~~~~ Borda 2\n",
    "<<<<<<<<------->>>>>>> Borda 3\n",
    "Ex: Uma chamada válida seria Gerador(\"Python\", 3, 2)\n",
    "~~~~~~~~:::::::~~~~~~~\n",
    "Python\n",
    "Python\n",
    "Python\n",
    "~~~~~~~~:::::::~~~~~~~"
   ]
  },
  {
   "cell_type": "code",
   "execution_count": 5,
   "id": "57c7d083-433c-4c48-982b-ae90c03029a1",
   "metadata": {},
   "outputs": [
    {
     "name": "stdout",
     "output_type": "stream",
     "text": [
      "~~~~~~~~:::::::~~~~~~~\n",
      "Python\n",
      "Python\n",
      "Python\n",
      "~~~~~~~~:::::::~~~~~~~\n"
     ]
    }
   ],
   "source": [
    "def Gerador(mensagem, repeticoes, tipo_borda):\n",
    "    bordas = {\n",
    "        1: \"+-------=======------+\",\n",
    "        2: \"~~~~~~~~:::::::~~~~~~~\",\n",
    "        3: \"<<<<<<<<------->>>>>>>\"\n",
    "    }\n",
    "    borda = bordas.get(tipo_borda, \"+-------=======------+\")\n",
    "    print(borda)\n",
    "    for _ in range(repeticoes):\n",
    "        print(mensagem)\n",
    "    print(borda)\n",
    "\n",
    "Gerador(\"Python\", 3, 2)"
   ]
  },
  {
   "cell_type": "markdown",
   "id": "c0781424-7a4a-4c28-8a0e-8a5bd8da4f7c",
   "metadata": {},
   "source": [
    "90) Desenvolva um algoritmo que leia dois valores pelo teclado e passe esses\r\n",
    "valores para um procedimento Somador() que vai calcular e mostrar a soma entre\r\n",
    "eles."
   ]
  },
  {
   "cell_type": "code",
   "execution_count": 6,
   "id": "fc0f7e1e-2b47-42c1-bb20-2e9ffbc52365",
   "metadata": {},
   "outputs": [
    {
     "name": "stdin",
     "output_type": "stream",
     "text": [
      "Digite o primeiro valor:  10\n",
      "Digite o segundo valor:  2\n"
     ]
    },
    {
     "name": "stdout",
     "output_type": "stream",
     "text": [
      "A soma entre 10.0 e 2.0 é 12.0.\n"
     ]
    }
   ],
   "source": [
    "def Somador(a, b):\n",
    "    soma = a + b\n",
    "    print(f\"A soma entre {a} e {b} é {soma}.\")\n",
    "\n",
    "x = float(input(\"Digite o primeiro valor: \"))\n",
    "y = float(input(\"Digite o segundo valor: \"))\n",
    "Somador(x, y)"
   ]
  },
  {
   "cell_type": "markdown",
   "id": "23c71d35-c2ef-407f-9d60-d6abfa6a1aec",
   "metadata": {},
   "source": [
    "91) Desenvolva um algoritmo que leia dois valores pelo teclado e passe esses\r\n",
    "valores para um procedimento Maior() que vai verificar qual deles é o maior e\r\n",
    "mostrá-lo na tela. Caso os dois valores sejam iguais, mostrar uma mensagem\r\n",
    "informando essa característica."
   ]
  },
  {
   "cell_type": "code",
   "execution_count": 7,
   "id": "dcf46452-8a25-4125-b7a0-a61fbed30108",
   "metadata": {},
   "outputs": [
    {
     "name": "stdin",
     "output_type": "stream",
     "text": [
      "Digite o primeiro valor:  10\n",
      "Digite o segundo valor:  9\n"
     ]
    },
    {
     "name": "stdout",
     "output_type": "stream",
     "text": [
      "O maior valor é 10.0.\n"
     ]
    }
   ],
   "source": [
    "def Maior(a, b):\n",
    "    if a > b:\n",
    "        print(f\"O maior valor é {a}.\")\n",
    "    elif b > a:\n",
    "        print(f\"O maior valor é {b}.\")\n",
    "    else:\n",
    "        print(\"Os dois valores são iguais.\")\n",
    "\n",
    "x = float(input(\"Digite o primeiro valor: \"))\n",
    "y = float(input(\"Digite o segundo valor: \"))\n",
    "Maior(x, y)"
   ]
  },
  {
   "cell_type": "markdown",
   "id": "bcd73fcf-65fc-4116-af0a-767147aa01a5",
   "metadata": {},
   "source": [
    "92) Crie uma lógica que leia um número inteiro e passe para um procedimento\r\n",
    "ParOuImpar() que vai verificar e mostrar na tela se o valor passado como\r\n",
    "parâmetro é PAR ou ÍMPAR."
   ]
  },
  {
   "cell_type": "code",
   "execution_count": 10,
   "id": "eba3a99a-ac1c-4c30-a630-ad5d0f2f6b82",
   "metadata": {},
   "outputs": [
    {
     "name": "stdin",
     "output_type": "stream",
     "text": [
      "Digite um número:  2\n"
     ]
    },
    {
     "name": "stdout",
     "output_type": "stream",
     "text": [
      "2 é PAR.\n"
     ]
    }
   ],
   "source": [
    "def ParOuImpar(num):\n",
    "    if num % 2 == 0:\n",
    "        print(f\"{num} é PAR.\")\n",
    "    else:\n",
    "        print(f\"{num} é ÍMPAR.\")\n",
    "\n",
    "numero = int(input(\"Digite um número: \"))\n",
    "ParOuImpar(numero)"
   ]
  },
  {
   "cell_type": "markdown",
   "id": "aec0b088-c996-4189-95fc-b8f24d51dc41",
   "metadata": {},
   "source": [
    "93) Faça um programa que tenha um procedimento chamado Contador() que recebe\r\n",
    "três valores como parâmetro: o início, o fim e o incremento de uma contagem. O\r\n",
    "programa principal deve solicitar a digitação desses valores e passá-los ao\r\n",
    "procedimento, que vai mostrar a contagem na tela.\r\n",
    "Ex: Para os valores de início (4), fim (20) e incremento(3) teremos\r\n",
    "Contador(4, 20, 3) vai mostrar na tela 4 >> 7 >> 10 >> 13 >> 16 >> 19 >> FIM"
   ]
  },
  {
   "cell_type": "code",
   "execution_count": 12,
   "id": "e89fe31d-9f0e-4674-8e8a-f4e9a3b3ef29",
   "metadata": {},
   "outputs": [
    {
     "name": "stdin",
     "output_type": "stream",
     "text": [
      "Digite o valor de início:  1\n",
      "Digite o valor de fim:  90\n",
      "Digite o valor do incremento:  8\n"
     ]
    },
    {
     "name": "stdout",
     "output_type": "stream",
     "text": [
      "1 >> 9 >> 17 >> 25 >> 33 >> 41 >> 49 >> 57 >> 65 >> 73 >> 81 >> 89 >> FIM\n"
     ]
    }
   ],
   "source": [
    "def Contador(inicio, fim, incremento):\n",
    "    for i in range(inicio, fim, incremento):\n",
    "        print(i, end=\" >> \")\n",
    "    print(\"FIM\")\n",
    "\n",
    "inicio = int(input(\"Digite o valor de início: \"))\n",
    "fim = int(input(\"Digite o valor de fim: \"))\n",
    "incremento = int(input(\"Digite o valor do incremento: \"))\n",
    "Contador(inicio, fim, incremento)"
   ]
  },
  {
   "cell_type": "markdown",
   "id": "4efb5b9b-e2cc-41ad-b68e-0926254b171c",
   "metadata": {},
   "source": [
    "94) [DESAFIO] Desenvolva um aplicativo que tenha um procedimento chamado\r\n",
    "Fibonacci() que recebe um único valor inteiro como parâmetro, indicando quantos\r\n",
    "termos da sequência serão mostrados na tela. O seu procedimento deve receber\r\n",
    "esse valor e mostrar a quantidade de elementos solicitados.\r\n",
    "Obs: Use os exercícios 70 e 75 para te ajudar na solução\r\n",
    "Ex:\r\n",
    "Fibonacci(5) vai gerar 1 >> 1 >> 2 >> 3 >> 5 >> FIM\r\n",
    "Fibonacci(9) vai gerar 1 >> 1 >> 2 >> 3 >> 5 >> 8 >> 13 >> 21 >> 34 >> FIM"
   ]
  },
  {
   "cell_type": "code",
   "execution_count": 15,
   "id": "caf4e3e1-1a59-4b17-ba57-edcf2df96a1d",
   "metadata": {},
   "outputs": [
    {
     "name": "stdout",
     "output_type": "stream",
     "text": [
      "1 >> 1 >> 2 >> 3 >> 5 >> FIM\n",
      "1 >> 1 >> 2 >> 3 >> 5 >> 8 >> 13 >> 21 >> 34 >> FIM\n"
     ]
    }
   ],
   "source": [
    "def Fibonacci(quantidade):\n",
    "    a, b = 1, 1\n",
    "    contador = 1\n",
    "    while contador <= quantidade:\n",
    "        print(a, end=\" >> \" if contador < quantidade else \" >> FIM\\n\")\n",
    "        a, b = b, a + b\n",
    "        contador += 1\n",
    "\n",
    "# Exemplos de chamada do procedimento\n",
    "Fibonacci(5)\n",
    "Fibonacci(9)"
   ]
  },
  {
   "cell_type": "code",
   "execution_count": null,
   "id": "12c3c1af-62b3-4d24-81ee-e5ae371cfe7b",
   "metadata": {},
   "outputs": [],
   "source": []
  }
 ],
 "metadata": {
  "kernelspec": {
   "display_name": "Python 3 (ipykernel)",
   "language": "python",
   "name": "python3"
  },
  "language_info": {
   "codemirror_mode": {
    "name": "ipython",
    "version": 3
   },
   "file_extension": ".py",
   "mimetype": "text/x-python",
   "name": "python",
   "nbconvert_exporter": "python",
   "pygments_lexer": "ipython3",
   "version": "3.12.0"
  }
 },
 "nbformat": 4,
 "nbformat_minor": 5
}
