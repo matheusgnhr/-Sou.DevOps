{
 "cells": [
  {
   "cell_type": "markdown",
   "id": "96278622-7cf3-4a74-aeb8-2ced441d4268",
   "metadata": {},
   "source": [
    "# PASSO 10 – FUNÇÕES"
   ]
  },
  {
   "cell_type": "markdown",
   "id": "3d6f33c4-189a-43b7-8ab8-2c48e144e3bf",
   "metadata": {},
   "source": [
    "95) Refaça o exercício 90, só que agora em forma de função Somador(), que vai\r\n",
    "receber dois parâmetros e vai retornar o resultado da soma entre eles para o\r\n",
    "programa principal."
   ]
  },
  {
   "cell_type": "code",
   "execution_count": 1,
   "id": "b1142a54-17f5-4ad3-92f6-0562f1b9bd81",
   "metadata": {},
   "outputs": [
    {
     "name": "stdin",
     "output_type": "stream",
     "text": [
      "Digite o primeiro número:  2\n",
      "Digite o segundo número:  9\n"
     ]
    },
    {
     "name": "stdout",
     "output_type": "stream",
     "text": [
      "A soma de 2.0 e 9.0 é 11.0.\n"
     ]
    }
   ],
   "source": [
    "def Somador(a, b):\n",
    "    return a + b\n",
    "\n",
    "# Testando a função\n",
    "x = float(input(\"Digite o primeiro número: \"))\n",
    "y = float(input(\"Digite o segundo número: \"))\n",
    "resultado = Somador(x, y)\n",
    "print(f\"A soma de {x} e {y} é {resultado}.\")"
   ]
  },
  {
   "cell_type": "markdown",
   "id": "06e406d1-5b7a-4605-8586-635c39b82d89",
   "metadata": {},
   "source": [
    "96) Crie um programa que tenha uma função Media(), que vai receber as 2 notas de\r\n",
    "um aluno e retornar a sua média para o programa principal."
   ]
  },
  {
   "cell_type": "code",
   "execution_count": 3,
   "id": "d6baa1e6-d5a7-4c84-9eb7-9d5d02ebbc64",
   "metadata": {},
   "outputs": [
    {
     "name": "stdin",
     "output_type": "stream",
     "text": [
      "Digite a primeira nota:  9\n",
      "Digite a segunda nota:  2\n"
     ]
    },
    {
     "name": "stdout",
     "output_type": "stream",
     "text": [
      "A média é 5.50.\n"
     ]
    }
   ],
   "source": [
    "def Media(nota1, nota2):\n",
    "    return (nota1 + nota2) / 2\n",
    "\n",
    "# Testando a função\n",
    "nota1 = float(input(\"Digite a primeira nota: \"))\n",
    "nota2 = float(input(\"Digite a segunda nota: \"))\n",
    "media = Media(nota1, nota2)\n",
    "print(f\"A média é {media:.2f}.\")"
   ]
  },
  {
   "cell_type": "markdown",
   "id": "831b1744-0855-465a-8a80-fb86129769c4",
   "metadata": {},
   "source": [
    "97) Refaça o exercício 91, só que agora em forma de função Maior(), mas faça uma\r\n",
    "adaptação que vai receber TRÊS números como parâmetro e vai retornar qual foi o\r\n",
    "maior entre eles."
   ]
  },
  {
   "cell_type": "code",
   "execution_count": 4,
   "id": "6d99bf28-10f6-4acb-9645-4089a995fca4",
   "metadata": {},
   "outputs": [
    {
     "name": "stdin",
     "output_type": "stream",
     "text": [
      "Digite o primeiro número:  2\n",
      "Digite o segundo número:  8\n",
      "Digite o terceiro número:  3\n"
     ]
    },
    {
     "name": "stdout",
     "output_type": "stream",
     "text": [
      "O maior número é 8.0.\n"
     ]
    }
   ],
   "source": [
    "def Maior(a, b, c):\n",
    "    return max(a, b, c)\n",
    "\n",
    "# Testando a função\n",
    "num1 = float(input(\"Digite o primeiro número: \"))\n",
    "num2 = float(input(\"Digite o segundo número: \"))\n",
    "num3 = float(input(\"Digite o terceiro número: \"))\n",
    "maior_numero = Maior(num1, num2, num3)\n",
    "print(f\"O maior número é {maior_numero}.\")"
   ]
  },
  {
   "cell_type": "markdown",
   "id": "7c33198e-0cb0-4384-beb1-1e3b07059c45",
   "metadata": {},
   "source": [
    "98) Crie um programa que tenha uma função SuperSomador(), que vai receber dois\r\n",
    "números como parâmetro e depois vai retornar a soma de todos os valores no\r\n",
    "intervalo entre os valores recebidos.\r\n",
    "Ex:\r\n",
    "SuperSomador(1, 6) vai somar 1 + 2 + 3 + 4 + 5 + 6 e vai retornar 21\r\n",
    "SuperSomador(15, 19) vai somar 15 + 16 + 17 + 18 + 19 e vai retornar 85"
   ]
  },
  {
   "cell_type": "code",
   "execution_count": 7,
   "id": "e57deab7-c430-4f88-a1b5-18cf0c16f413",
   "metadata": {},
   "outputs": [
    {
     "name": "stdin",
     "output_type": "stream",
     "text": [
      "Digite o valor inicial:  1\n",
      "Digite o valor final:  80\n"
     ]
    },
    {
     "name": "stdout",
     "output_type": "stream",
     "text": [
      "A soma do intervalo é 3240.\n"
     ]
    }
   ],
   "source": [
    "def SuperSomador(inicio, fim):\n",
    "    return sum(range(inicio, fim + 1))\n",
    "\n",
    "# Testando a função\n",
    "inicio = int(input(\"Digite o valor inicial: \"))\n",
    "fim = int(input(\"Digite o valor final: \"))\n",
    "soma = SuperSomador(inicio, fim)\n",
    "print(f\"A soma do intervalo é {soma}.\")"
   ]
  },
  {
   "cell_type": "markdown",
   "id": "62fa9912-739c-4079-8021-94826573083b",
   "metadata": {},
   "source": [
    "99) Faça um programa que possua uma função chamada Potencia(), que vai receber\r\n",
    "dois parâmetros numéricos (base e expoente) e vai calcular o resultado da\r\n",
    "exponenciação.\r\n",
    "Ex: Potencia(5,2) vai calcular 52 = 25"
   ]
  },
  {
   "cell_type": "code",
   "execution_count": 8,
   "id": "2e30e9d6-d5d7-4da9-8734-833bda5b593c",
   "metadata": {},
   "outputs": [
    {
     "name": "stdin",
     "output_type": "stream",
     "text": [
      "Digite a base:  29\n",
      "Digite o expoente:  6\n"
     ]
    },
    {
     "name": "stdout",
     "output_type": "stream",
     "text": [
      "29.0 elevado a 6 é 594823321.0.\n"
     ]
    }
   ],
   "source": [
    "def Potencia(base, expoente):\n",
    "    return base ** expoente\n",
    "\n",
    "# Testando a função\n",
    "base = float(input(\"Digite a base: \"))\n",
    "expoente = int(input(\"Digite o expoente: \"))\n",
    "resultado = Potencia(base, expoente)\n",
    "print(f\"{base} elevado a {expoente} é {resultado}.\")"
   ]
  },
  {
   "cell_type": "markdown",
   "id": "a95dc3b5-4215-4fe0-a77d-d8b0f99b88e8",
   "metadata": {},
   "source": [
    "100) Melhore o exercício 96, criando além da função Media() uma outra função\r\n",
    "chamada Situacao(), que vai retornar para o programa principal se o aluno está\r\n",
    "APROVADO, em RECUPERAÇÃO ou REPROVADO. Essa nova função, vai receber como\r\n",
    "parâmetro o resultado retornado pela função Media()."
   ]
  },
  {
   "cell_type": "code",
   "execution_count": 9,
   "id": "2cecf154-4e2b-4dca-baac-e6c44ec272c5",
   "metadata": {},
   "outputs": [
    {
     "name": "stdin",
     "output_type": "stream",
     "text": [
      "Digite a primeira nota:  2\n",
      "Digite a segunda nota:  10\n"
     ]
    },
    {
     "name": "stdout",
     "output_type": "stream",
     "text": [
      "O aluno está RECUPERAÇÃO com média 6.00.\n"
     ]
    }
   ],
   "source": [
    "def Media(nota1, nota2):\n",
    "    return (nota1 + nota2) / 2\n",
    "\n",
    "def Situacao(media):\n",
    "    if media >= 7:\n",
    "        return \"APROVADO\"\n",
    "    elif 5 <= media < 7:\n",
    "        return \"RECUPERAÇÃO\"\n",
    "    else:\n",
    "        return \"REPROVADO\"\n",
    "\n",
    "# Testando as funções\n",
    "nota1 = float(input(\"Digite a primeira nota: \"))\n",
    "nota2 = float(input(\"Digite a segunda nota: \"))\n",
    "media = Media(nota1, nota2)\n",
    "situacao = Situacao(media)\n",
    "print(f\"O aluno está {situacao} com média {media:.2f}.\")"
   ]
  },
  {
   "cell_type": "code",
   "execution_count": null,
   "id": "2117585c-1f22-4c81-9b37-bc24497b0bb1",
   "metadata": {},
   "outputs": [],
   "source": []
  }
 ],
 "metadata": {
  "kernelspec": {
   "display_name": "Python 3 (ipykernel)",
   "language": "python",
   "name": "python3"
  },
  "language_info": {
   "codemirror_mode": {
    "name": "ipython",
    "version": 3
   },
   "file_extension": ".py",
   "mimetype": "text/x-python",
   "name": "python",
   "nbconvert_exporter": "python",
   "pygments_lexer": "ipython3",
   "version": "3.12.0"
  }
 },
 "nbformat": 4,
 "nbformat_minor": 5
}
