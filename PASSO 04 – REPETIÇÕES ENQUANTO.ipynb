{
 "cells": [
  {
   "cell_type": "markdown",
   "id": "e48911f8-fa47-4969-9ab9-1e33361be27c",
   "metadata": {},
   "source": [
    "# PASSO 04 – REPETIÇÕES ENQUANTO"
   ]
  },
  {
   "cell_type": "markdown",
   "id": "0a84246b-a421-46e2-bc9d-7ca30cc34144",
   "metadata": {},
   "source": [
    "38) Escreva um programa que mostre na tela a seguinte contagem:\r\n",
    "6 7 8 9 10 11 Acabou!"
   ]
  },
  {
   "cell_type": "markdown",
   "id": "a9577ff9-c9b2-48ef-82b5-3185de543832",
   "metadata": {},
   "source": [
    "i = 6\n",
    "while i <= 11:\n",
    "    print(i, end=' ')\n",
    "    i += 1\n",
    "print(\"Acabou!\")"
   ]
  },
  {
   "cell_type": "markdown",
   "id": "219975d5-a09d-4b61-898a-e9ab91d1a5c5",
   "metadata": {},
   "source": [
    "39) Faça um algoritmo que mostre na tela a seguinte contagem:\n",
    "10 9 8 7 6 5 4 3 Acabou!"
   ]
  },
  {
   "cell_type": "code",
   "execution_count": null,
   "id": "56fb372f-0d67-4b10-a16f-b955a444b29f",
   "metadata": {},
   "outputs": [],
   "source": [
    "i = 10\n",
    "while i >= 3:\n",
    "    print(i, end=' ')\n",
    "    i -= 1\n",
    "print(\"Acabou!\")"
   ]
  },
  {
   "cell_type": "markdown",
   "id": "d2463494-5488-44c2-96a2-89d0dbd979fb",
   "metadata": {},
   "source": [
    "40) Crie um aplicativo que mostre na tela a seguinte contagem:\r\n",
    "0 3 6 9 12 15 18 Acabou!"
   ]
  },
  {
   "cell_type": "code",
   "execution_count": null,
   "id": "2b7d33c6-d5cf-40b1-a048-c525a519d0b6",
   "metadata": {},
   "outputs": [],
   "source": [
    "i = 0\n",
    "while i <= 18:\n",
    "    print(i, end=' ')\n",
    "    i += 3\n",
    "print(\"Acabou!\")"
   ]
  },
  {
   "cell_type": "markdown",
   "id": "fc421931-f4ff-4d9c-8951-92df6d8f7635",
   "metadata": {},
   "source": [
    "41) Desenvolva um programa que mostre na tela a seguinte contagem:\r\n",
    "100 95 90 85 80 ... 0 Acabou!"
   ]
  },
  {
   "cell_type": "code",
   "execution_count": null,
   "id": "f0f58ab4-9d88-4381-8d48-7bd431e83398",
   "metadata": {},
   "outputs": [],
   "source": [
    "i = 100\n",
    "while i >= 0:\n",
    "    print(i, end=' ')\n",
    "    i -= 5\n",
    "print(\"Acabou!\")"
   ]
  },
  {
   "cell_type": "markdown",
   "id": "64b0fa12-f536-48f8-9d33-c951f6c0300f",
   "metadata": {},
   "source": [
    "42) Faça um algoritmo que pergunte ao usuário um número inteiro e positivo\n",
    "qualquer e mostre uma contagem até esse valor:\n",
    "Ex: Digite um valor: 35\n",
    "Contagem: 1 2 3 4 5 6 7 ... 33 34 35 Acabou!"
   ]
  },
  {
   "cell_type": "code",
   "execution_count": null,
   "id": "0160d912-9bf3-4263-a611-4188781ed7c4",
   "metadata": {},
   "outputs": [],
   "source": [
    "valor = int(input(\"Digite um valor: \"))\n",
    "i = 1\n",
    "while i <= valor:\n",
    "    print(i, end=' ')\n",
    "    i += 1\n",
    "print(\"Acabou!\")"
   ]
  },
  {
   "cell_type": "markdown",
   "id": "f3fca360-8256-4961-9c34-96e5f1e619c6",
   "metadata": {},
   "source": [
    "43) Desenvolva um algoritmo que mostre uma contagem regressiva de 30 até 1,\r\n",
    "marcando os números que forem divisíveis por 4, exatamente como mostrado abaixo:\r\n",
    "30 29 [28] 27 26 25 [24] 23 22 21 [20] 19 18 17 [16]..."
   ]
  },
  {
   "cell_type": "code",
   "execution_count": null,
   "id": "79e7300c-33cd-426e-9e0b-eed362b35955",
   "metadata": {},
   "outputs": [],
   "source": [
    "i = 30\n",
    "while i >= 1:\n",
    "    if i % 4 == 0:\n",
    "        print(f\"[{i}]\", end=' ')\n",
    "    else:\n",
    "        print(i, end=' ')\n",
    "    i -= 1\n",
    "print(\"Acabou!\")"
   ]
  },
  {
   "cell_type": "markdown",
   "id": "fdcdb2f8-8647-4928-a319-b26dd7d9ca90",
   "metadata": {},
   "source": [
    "44) Crie um algoritmo que leia o valor inicial da contagem, o valor final e o\r\n",
    "incremento, mostrando em seguida todos os valores no intervalo:\r\n",
    "Ex: Digite o primeiro Valor: 3\r\n",
    "Digite o último Valor: 10\r\n",
    "Digite o incremento: 2\r\n",
    "Contagem: 3 5 7 9 Acabou!"
   ]
  },
  {
   "cell_type": "code",
   "execution_count": null,
   "id": "6f9ed28f-a85c-4d4b-be19-2e361aea4b6a",
   "metadata": {},
   "outputs": [],
   "source": [
    "inicio = int(input(\"Digite o primeiro Valor: \"))\n",
    "fim = int(input(\"Digite o último Valor: \"))\n",
    "incremento = int(input(\"Digite o incremento: \"))\n",
    "\n",
    "i = inicio\n",
    "while (i <= fim if incremento > 0 else i >= fim):\n",
    "    print(i, end=' ')\n",
    "    i += incremento\n",
    "print(\"Acabou!\")"
   ]
  },
  {
   "cell_type": "markdown",
   "id": "1de23afa-345c-444c-b3fb-87f0b7fa4466",
   "metadata": {},
   "source": [
    "45) O programa acima vai ter um problema quando digitarmos o primeiro valor\r\n",
    "maior que o último. Resolva esse problema com um código que funcione em qualquer\r\n",
    "situação."
   ]
  },
  {
   "cell_type": "code",
   "execution_count": null,
   "id": "09a8a0e2-fbdb-4020-9690-73a65cdcd9da",
   "metadata": {},
   "outputs": [],
   "source": [
    "inicio = int(input(\"Digite o primeiro Valor: \"))\n",
    "fim = int(input(\"Digite o último Valor: \"))\n",
    "incremento = int(input(\"Digite o incremento: \"))\n",
    "\n",
    "if inicio > fim and incremento > 0:\n",
    "    incremento = -incremento\n",
    "\n",
    "i = inicio\n",
    "while (i <= fim if incremento > 0 else i >= fim):\n",
    "    print(i, end=' ')\n",
    "    i += incremento\n",
    "print(\"Acabou!\")"
   ]
  },
  {
   "cell_type": "markdown",
   "id": "81ed3827-69e7-45c8-ba22-999345937718",
   "metadata": {},
   "source": [
    "46) Crie um programa que calcule e mostre na tela o resultado da soma entre 6 +\r\n",
    "8 + 10 + 12 + 14 + ... + 98 + 100."
   ]
  },
  {
   "cell_type": "code",
   "execution_count": null,
   "id": "91867ac6-efd1-46b0-92a5-af9dadbc66ea",
   "metadata": {},
   "outputs": [],
   "source": [
    "i = 6\n",
    "soma = 0\n",
    "while i <= 100:\n",
    "    soma += i\n",
    "    i += 2\n",
    "print(f\"Resultado da soma: {soma}\")"
   ]
  },
  {
   "cell_type": "markdown",
   "id": "68a18b24-66b8-47a4-b865-1c6b79ec095e",
   "metadata": {},
   "source": [
    "47) Desenvolva um aplicativo que mostre na tela o resultado da expressão 500 +\n",
    "450 + 400 + 350 + 300 + ... + 50 + 0"
   ]
  },
  {
   "cell_type": "code",
   "execution_count": null,
   "id": "9f83ec12-5bcb-4e31-86a1-fd351472a363",
   "metadata": {},
   "outputs": [],
   "source": [
    "i = 500\n",
    "soma = 0\n",
    "while i >= 0:\n",
    "    soma += i\n",
    "    i -= 50\n",
    "print(f\"Resultado da soma: {soma}\")"
   ]
  },
  {
   "cell_type": "markdown",
   "id": "55def189-6b09-41dd-b6d4-711b00e20091",
   "metadata": {},
   "source": [
    "48) Faça um programa que leia 7 números inteiros e no final mostre o somatório\r\n",
    "entre eles."
   ]
  },
  {
   "cell_type": "code",
   "execution_count": null,
   "id": "d2952773-9dea-4a70-802d-1f0009ac4af4",
   "metadata": {},
   "outputs": [],
   "source": [
    "contador = soma = 0\n",
    "while contador < 7:\n",
    "    numero = int(input(f\"Digite o {contador+1}º número: \"))\n",
    "    soma += numero\n",
    "    contador += 1\n",
    "print(f\"Somatório: {soma}\")\n"
   ]
  },
  {
   "cell_type": "markdown",
   "id": "1d5e197e-b241-4637-952a-c56b0b84f48c",
   "metadata": {},
   "source": [
    "49) Crie um programa que leia 6 números inteiros e no final mostre quantos deles\r\n",
    "são pares e quantos são ímpares."
   ]
  },
  {
   "cell_type": "code",
   "execution_count": null,
   "id": "4045ac5d-1ca1-46c2-8fa6-965ebfda7e3a",
   "metadata": {},
   "outputs": [],
   "source": [
    "contador = pares = impares = 0\n",
    "while contador < 6:\n",
    "    numero = int(input(\"Digite um número: \"))\n",
    "    if numero % 2 == 0:\n",
    "        pares += 1\n",
    "    else:\n",
    "        impares += 1\n",
    "    contador += 1\n",
    "\n",
    "print(f\"Pares: {pares}\\nÍmpares: {impares}\")"
   ]
  },
  {
   "cell_type": "markdown",
   "id": "852d8d80-0d3a-4177-9c56-5a08e701162a",
   "metadata": {},
   "source": [
    "50) Desenvolva um programa que faça o sorteio de 20 números entre 0 e 10 e\r\n",
    "mostre na tela:\r\n",
    "a) Quais foram os números sorteados\r\n",
    "b) Quantos números estão acima de 5\r\n",
    "c) Quantos números são divisíveis por 3"
   ]
  },
  {
   "cell_type": "code",
   "execution_count": null,
   "id": "44278286-6b60-479c-aba5-10aaaf1f65e5",
   "metadata": {},
   "outputs": [],
   "source": [
    "import random\n",
    "\n",
    "contador = numeros_acima_5 = numeros_divisiveis_por_3 = 0\n",
    "numeros_sorteados = []\n",
    "\n",
    "while contador < 20:\n",
    "    numero = random.randint(0, 10)\n",
    "    numeros_sorteados.append(numero)\n",
    "    if numero > 5:\n",
    "        numeros_acima_5 += 1\n",
    "    if numero % 3 == 0:\n",
    "        numeros_divisiveis_por_3 += 1\n",
    "    contador += 1\n",
    "\n",
    "print(\"Números sorteados:\", numeros_sorteados)\n",
    "print(\"Quantidade de números acima de 5:\", numeros_acima_5)\n",
    "print(\"Quantidade de números divisíveis por 3:\", numeros_divisiveis_por_3)"
   ]
  },
  {
   "cell_type": "markdown",
   "id": "0ab2f683-e54c-4c11-a722-02bda8a373c6",
   "metadata": {},
   "source": [
    "51) Faça um aplicativo que leia o preço de 8 produtos. No final, mostre na tela\r\n",
    "qual foi o maior e qual foi o menor preço digitados."
   ]
  },
  {
   "cell_type": "code",
   "execution_count": null,
   "id": "f6350545-01b0-48a9-b7bd-a0998812f49a",
   "metadata": {},
   "outputs": [],
   "source": [
    "contador = 0\n",
    "precos = []\n",
    "\n",
    "while contador < 8:\n",
    "    preco = float(input(f\"Preço do produto {contador+1}: R$\"))\n",
    "    precos.append(preco)\n",
    "    contador += 1\n",
    "\n",
    "print(f\"Maior preço: R${max(precos):.2f}\\nMenor preço: R${min(precos):.2f}\")"
   ]
  },
  {
   "cell_type": "markdown",
   "id": "79445caa-6e2d-41a9-b576-22a450f92dfa",
   "metadata": {},
   "source": [
    "52) Crie um algoritmo que leia a idade de 10 pessoas, mostrando no final:\r\n",
    "a) Qual é a média de idade do grupo\r\n",
    "b) Quantas pessoas tem mais de 18 anos\r\n",
    "c) Quantas pessoas tem menos de 5 anos\r\n",
    "d) Qual foi a maior idade lida"
   ]
  },
  {
   "cell_type": "code",
   "execution_count": null,
   "id": "f571d5ac-9352-401c-9aab-e47d0ed842e6",
   "metadata": {},
   "outputs": [],
   "source": [
    "contador = soma_idades = maiores_18 = menores_5 = maior_idade = 0\n",
    "\n",
    "while contador < 10:\n",
    "    idade = int(input(f\"Idade da pessoa {contador+1}: \"))\n",
    "    soma_idades += idade\n",
    "    if idade > 18:\n",
    "        maiores_18 += 1\n",
    "    if idade < 5:\n",
    "        menores_5 += 1\n",
    "    if idade > maior_idade:\n",
    "        maior_idade = idade\n",
    "    contador += 1\n",
    "\n",
    "media_idades = soma_idades / 10\n",
    "print(f\"Média de idade: {media_idades:.1f}\\nPessoas maiores de 18 anos: {maiores_18}\\nPessoas menores de 5 anos: {menores_5}\\nMaior idade: {maior_idade}\")"
   ]
  },
  {
   "cell_type": "markdown",
   "id": "82deba2c-d052-44d6-92c7-1c72bfd07e87",
   "metadata": {},
   "source": [
    "53) Faça um programa que leia a idade e o sexo de 5 pessoas, mostrando no final:\r\n",
    "a) Quantos homens foram cadastrados\r\n",
    "b) Quantas mulheres foram cadastradas\r\n",
    "c) A média de idade do grupo\r\n",
    "d) A média de idade dos homens\r\n",
    "e) Quantas mulheres tem mais de 20 anos"
   ]
  },
  {
   "cell_type": "code",
   "execution_count": null,
   "id": "4915f97c-c22b-451f-8ff2-5d16d013161b",
   "metadata": {},
   "outputs": [],
   "source": [
    "contador = homens = mulheres = soma_idades = mulheres_acima_20 = 0\n",
    "\n",
    "while contador < 5:\n",
    "    idade = int(input(\"Idade: \"))\n",
    "    sexo = input(\"Sexo (M/F): \").upper()\n",
    "    soma_idades += idade\n",
    "\n",
    "    if sexo == \"M\":\n",
    "        homens += 1\n",
    "    elif sexo == \"F\":\n",
    "        mulheres += 1\n",
    "        if idade > 20:\n",
    "            mulheres_acima_20 += 1\n",
    "    contador += 1\n",
    "\n",
    "media_idade = soma_idades / 5\n",
    "media_idade_homens = soma_idades / homens if homens > 0 else 0\n",
    "\n",
    "print(f\"Homens cadastrados: {homens}\\nMulheres cadastradas: {mulheres}\\nMédia de idade do grupo: {media_idade:.1f}\\nMédia de idade dos homens: {media_idade_homens:.1f}\\nMulheres acima de 20 anos: {mulheres_acima_20}\")"
   ]
  },
  {
   "cell_type": "markdown",
   "id": "d2019e33-2e3b-4623-8a3f-571da257e690",
   "metadata": {},
   "source": [
    "54) Desenvolva um aplicativo que leia o peso e a altura de 7 pessoas, mostrando\r\n",
    "no final:\r\n",
    "a) Qual foi a média de altura do grupo\r\n",
    "b) Quantas pessoas pesam mais de 90Kg\r\n",
    "c) Quantas pessoas que pesam menos de 50Kg tem menos de 1.60m\r\n",
    "d) Quantas pessoas que medem mais de 1.90m pesam mais de 100Kg."
   ]
  },
  {
   "cell_type": "code",
   "execution_count": null,
   "id": "44350b74-a844-4d3f-9623-07c26b1fe981",
   "metadata": {},
   "outputs": [],
   "source": [
    "contador = 0\n",
    "total_altura = peso_mais_90 = peso_menos_50_altura_menos_160 = altura_mais_190_peso_mais_100 = 0\n",
    "\n",
    "while contador < 7:\n",
    "    altura = float(input(f\"Altura da pessoa {contador+1} (em metros): \"))\n",
    "    peso = float(input(f\"Peso da pessoa {contador+1} (em kg): \"))\n",
    "    total_altura += altura\n",
    "\n",
    "    if peso > 90:\n",
    "        peso_mais_90 += 1\n",
    "    if peso < 50 and altura < 1.60:\n",
    "        peso_menos_50_altura_menos_160 += 1\n",
    "    if altura > 1.90 and peso > 100:\n",
    "        altura_mais_190_peso_mais_100 += 1\n",
    "\n",
    "    contador += 1\n",
    "\n",
    "media_altura = total_altura / 7\n",
    "print(f\"a) Média de altura do grupo: {media_altura:.2f} m\")\n",
    "print(f\"b) Pessoas com mais de 90Kg: {peso_mais_90}\")\n",
    "print(f\"c) Pessoas com menos de 50Kg e menos de 1.60m: {peso_menos_50_altura_menos_160}\")\n",
    "print(f\"d) Pessoas com mais de 1.90m e mais de 100Kg: {altura_mais_190_peso_mais_100}\")"
   ]
  },
  {
   "cell_type": "markdown",
   "id": "e3ce9a10-7a6d-4c39-b268-845446f5ae03",
   "metadata": {},
   "source": [
    "55) [DESAFIO] Vamos melhorar o jogo que fizemos no exercício 32. A partir de\r\n",
    "agora, o computador vai sortear um número entre 1 e 10 e o jogador vai ter 4\r\n",
    "tentativas para tentar acertar."
   ]
  },
  {
   "cell_type": "code",
   "execution_count": null,
   "id": "aedc5117-a71a-47d8-a2ff-0b3ebd5f0279",
   "metadata": {},
   "outputs": [],
   "source": [
    "import random\n",
    "\n",
    "numero_sorteado = random.randint(1, 10)\n",
    "tentativas = 4\n",
    "tentativa_atual = 1\n",
    "\n",
    "print(\"Jogo de Adivinhação\")\n",
    "print(\"Tente adivinhar o número que estou pensando entre 1 e 10.\")\n",
    "\n",
    "while tentativa_atual <= tentativas:\n",
    "    palpite = int(input(f\"Tentativa {tentativa_atual} de {tentativas}. Qual é o seu palpite? \"))\n",
    "    if palpite == numero_sorteado:\n",
    "        print(f\"Parabéns! Você acertou. O número era {numero_sorteado}.\")\n",
    "        break\n",
    "    tentativa_atual += 1\n",
    "\n",
    "if palpite != numero_sorteado:\n",
    "    print(f\"Você não acertou. O número era {numero_sorteado}.\")"
   ]
  },
  {
   "cell_type": "code",
   "execution_count": null,
   "id": "c9a89321-9d2c-40d7-ac52-986417520026",
   "metadata": {},
   "outputs": [],
   "source": []
  }
 ],
 "metadata": {
  "kernelspec": {
   "display_name": "Python 3 (ipykernel)",
   "language": "python",
   "name": "python3"
  },
  "language_info": {
   "codemirror_mode": {
    "name": "ipython",
    "version": 3
   },
   "file_extension": ".py",
   "mimetype": "text/x-python",
   "name": "python",
   "nbconvert_exporter": "python",
   "pygments_lexer": "ipython3",
   "version": "3.12.0"
  }
 },
 "nbformat": 4,
 "nbformat_minor": 5
}
