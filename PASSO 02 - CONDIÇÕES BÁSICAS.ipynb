{
 "cells": [
  {
   "cell_type": "markdown",
   "id": "bcd5c02f-86eb-4b26-a0d7-fa6e43b01be7",
   "metadata": {},
   "source": [
    "# PASSO 02 - CONDIÇÕES BÁSICAS"
   ]
  },
  {
   "cell_type": "markdown",
   "id": "b31f3c1f-9b27-495f-a61c-4a061ba12f5e",
   "metadata": {},
   "source": [
    "17) Escreva um programa que pergunte a velocidade de um carro. Caso ultrapasse\r\n",
    "80Km/h, exiba uma mensagem dizendo que o usuário foi multado. Nesse caso, exiba\r\n",
    "o valor da multa, cobrando R$5 por cada Km acima da velocidade permitida."
   ]
  },
  {
   "cell_type": "code",
   "execution_count": null,
   "id": "057e1aff-0944-46c4-b74a-176f4c297d8f",
   "metadata": {},
   "outputs": [],
   "source": [
    "velocidade = float(input(\"Qual a velocidade do carro? \"))\n",
    "if velocidade > 80:\n",
    "    multa = (velocidade - 80) * 5\n",
    "    print(f\"Você foi multado! Valor da multa: R${multa:.2f}\")\n",
    "else:\n",
    "    print(\"Velocidade dentro do limite permitido.\")\n"
   ]
  },
  {
   "cell_type": "markdown",
   "id": "650a1292-85b0-454e-bed1-3dfa35d0c019",
   "metadata": {},
   "source": [
    "18) Faça um programa que leia o ano de nascimento de uma pessoa, calcule a idade\r\n",
    "dela e depois mostre se ela pode ou não votar."
   ]
  },
  {
   "cell_type": "code",
   "execution_count": null,
   "id": "ef34f557-60bc-4bd6-af5a-231d387bae83",
   "metadata": {},
   "outputs": [],
   "source": [
    "from datetime import datetime\n",
    "\n",
    "ano_nascimento = int(input(\"Ano de nascimento: \"))\n",
    "idade = datetime.now().year - ano_nascimento\n",
    "\n",
    "if idade >= 18:\n",
    "    print(\"Você pode votar.\")\n",
    "else:\n",
    "    print(\"Você ainda não pode votar.\")\n"
   ]
  },
  {
   "cell_type": "markdown",
   "id": "b96ae67e-0be9-4b70-b082-17202b9f8921",
   "metadata": {},
   "source": [
    "19) Crie um algoritmo que leia o nome e as duas notas de um aluno, calcule a sua\r\n",
    "média e mostre na tela. No final, analise a média e mostre se o aluno teve ou\r\n",
    "não um bom aproveitamento (se ficou acima da média 7.0)."
   ]
  },
  {
   "cell_type": "code",
   "execution_count": null,
   "id": "47b803cc-f0e4-4ce3-bc15-f256890152b4",
   "metadata": {},
   "outputs": [],
   "source": [
    "nome = input(\"Nome do aluno: \")\n",
    "nota1 = float(input(\"Primeira nota: \"))\n",
    "nota2 = float(input(\"Segunda nota: \"))\n",
    "media = (nota1 + nota2) / 2\n",
    "\n",
    "print(f\"Média do aluno {nome}: {media:.1f}\")\n",
    "if media >= 7.0:\n",
    "    print(\"Bom aproveitamento!\")\n",
    "else:\n",
    "    print(\"Abaixo da média.\")\n"
   ]
  },
  {
   "cell_type": "markdown",
   "id": "ae341739-1850-4983-8530-1d34236805d7",
   "metadata": {},
   "source": [
    "20) Desenvolva um programa que leia um número inteiro e mostre se ele é PAR ou\r\n",
    "ÍMPAR."
   ]
  },
  {
   "cell_type": "code",
   "execution_count": null,
   "id": "02feef38-111b-4cae-89a9-ba84d2435fd5",
   "metadata": {},
   "outputs": [],
   "source": [
    "numero = int(input(\"Digite um número: \"))\n",
    "if numero % 2 == 0:\n",
    "    print(f\"O número {numero} é PAR\")\n",
    "else:\n",
    "    print(f\"O número {numero} é ÍMPAR\")\n"
   ]
  },
  {
   "cell_type": "markdown",
   "id": "2516e31a-27b0-4ddd-8ff3-84dbd670af18",
   "metadata": {},
   "source": [
    "21) Faça um algoritmo que leia um determinado ano e mostre se ele é ou não\n",
    "BISSEXTO."
   ]
  },
  {
   "cell_type": "code",
   "execution_count": null,
   "id": "988d2bc0-7e3c-43a8-be6f-fbfd9792f37d",
   "metadata": {},
   "outputs": [],
   "source": [
    "ano = int(input(\"Digite um ano: \"))\n",
    "if (ano % 4 == 0 and ano % 100 != 0) or (ano % 400 == 0):\n",
    "    print(f\"O ano {ano} é BISSEXTO\")\n",
    "else:\n",
    "    print(f\"O ano {ano} NÃO é bissexto\")\n"
   ]
  },
  {
   "cell_type": "markdown",
   "id": "e5289ba8-c4dd-43fa-b6eb-235bcd984241",
   "metadata": {},
   "source": [
    "22) Escreva um programa que leia o ano de nascimento de um rapaz e mostre a sua\n",
    "situação em relação ao alistamento militar.\n",
    "- Se estiver antes dos 18 anos, mostre em quantos anos faltam para o\n",
    "alistamento.\n",
    "- Se já tiver depois dos 18 anos, mostre quantos anos já se passaram do\n",
    "alistamento."
   ]
  },
  {
   "cell_type": "code",
   "execution_count": null,
   "id": "d1a680e2-12d4-4dd4-b44d-2ba67b126144",
   "metadata": {},
   "outputs": [],
   "source": [
    "ano_nascimento = int(input(\"Ano de nascimento: \"))\n",
    "idade = datetime.now().year - ano_nascimento\n",
    "\n",
    "if idade < 18:\n",
    "    print(f\"Faltam {18 - idade} anos para o alistamento.\")\n",
    "elif idade > 18:\n",
    "    print(f\"Já se passaram {idade - 18} anos do alistamento.\")\n",
    "else:\n",
    "    print(\"Você está no ano do alistamento.\")"
   ]
  },
  {
   "cell_type": "markdown",
   "id": "089506e2-1082-4e0a-97fc-a4489f317044",
   "metadata": {},
   "source": [
    "23) Numa promoção exclusiva para o Dia da Mulher, uma loja quer dar descontos\n",
    "para todos, mas especialmente para mulheres. Faça um programa que leia nome,\n",
    "sexo e o valor das compras do cliente e calcule o preço com desconto. Sabendo\n",
    "que:\n",
    "- Homens ganham 5% de desconto\n",
    "- Mulheres ganham 13% de desconto"
   ]
  },
  {
   "cell_type": "code",
   "execution_count": null,
   "id": "d59a29d3-cb97-4ec1-9b88-82995e35af35",
   "metadata": {},
   "outputs": [],
   "source": [
    "nome = input(\"Nome do cliente: \")\n",
    "sexo = input(\"Sexo (M/F): \").upper()\n",
    "valor_compras = float(input(\"Valor das compras: R$\"))\n",
    "\n",
    "if sexo == \"M\":\n",
    "    desconto = valor_compras * 0.05\n",
    "elif sexo == \"F\":\n",
    "    desconto = valor_compras * 0.13\n",
    "\n",
    "valor_final = valor_compras - desconto\n",
    "print(f\"{nome}, o valor final de suas compras é R${valor_final:.2f}\")\n"
   ]
  },
  {
   "cell_type": "markdown",
   "id": "72a99eac-b60c-451a-b75d-794496eeb2bf",
   "metadata": {},
   "source": [
    "24) Faça um algoritmo que pergunte a distância que um passageiro deseja\n",
    "percorrer em Km. Calcule o preço da passagem, cobrando RS0.50 por Km para\n",
    "viagens até 200Km e RS0.45 para viagens mais longas."
   ]
  },
  {
   "cell_type": "code",
   "execution_count": null,
   "id": "d0f533e6-6f77-4e5b-8bdf-9b3f0a838d78",
   "metadata": {},
   "outputs": [],
   "source": [
    "distancia = float(input(\"Distância da viagem em Km: \"))\n",
    "if distancia <= 200:\n",
    "    preco = distancia * 0.50\n",
    "else:\n",
    "    preco = distancia * 0.45\n",
    "print(f\"O preço da passagem será de R${preco:.2f}\")\n"
   ]
  },
  {
   "cell_type": "markdown",
   "id": "af0ea1c7-77f6-4a54-8c67-589a051f9dbe",
   "metadata": {},
   "source": [
    "25) [DESAFIO] Crie um programa que leia o tamanho de três segmentos de reta.\r\n",
    "Analise seus comprimentos e diga se é possível formar um triângulo com essas\r\n",
    "retas. Matematicamente, para três segmentos formarem um triângulo, o comprimento\r\n",
    "de cada lado deve ser menor que a soma dos outros dois."
   ]
  },
  {
   "cell_type": "code",
   "execution_count": null,
   "id": "6a7ed9c8-b3ad-49b4-95ce-28c59d814f43",
   "metadata": {},
   "outputs": [],
   "source": [
    "lado1 = float(input(\"Primeiro segmento: \"))\n",
    "lado2 = float(input(\"Segundo segmento: \"))\n",
    "lado3 = float(input(\"Terceiro segmento: \"))\n",
    "\n",
    "if lado1 < lado2 + lado3 and lado2 < lado1 + lado3 and lado3 < lado1 + lado2:\n",
    "    print(\"Os segmentos podem formar um triângulo!\")\n",
    "else:\n",
    "    print(\"Os segmentos NÃO podem formar um triângulo.\")\n"
   ]
  },
  {
   "cell_type": "code",
   "execution_count": null,
   "id": "96f49cd1-afd7-4727-8052-2fbadc2db5fd",
   "metadata": {},
   "outputs": [],
   "source": []
  }
 ],
 "metadata": {
  "kernelspec": {
   "display_name": "Python 3 (ipykernel)",
   "language": "python",
   "name": "python3"
  },
  "language_info": {
   "codemirror_mode": {
    "name": "ipython",
    "version": 3
   },
   "file_extension": ".py",
   "mimetype": "text/x-python",
   "name": "python",
   "nbconvert_exporter": "python",
   "pygments_lexer": "ipython3",
   "version": "3.12.0"
  }
 },
 "nbformat": 4,
 "nbformat_minor": 5
}
